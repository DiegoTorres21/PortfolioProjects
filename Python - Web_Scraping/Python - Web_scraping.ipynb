{
 "cells": [
  {
   "cell_type": "markdown",
   "id": "02407034",
   "metadata": {},
   "source": [
    "## Metro cuadrado scraping"
   ]
  },
  {
   "cell_type": "code",
   "execution_count": 1,
   "id": "d67e7c98",
   "metadata": {},
   "outputs": [],
   "source": [
    "#Importando librerias\n",
    "from selenium import webdriver\n",
    "from selenium.webdriver.chrome.service import Service\n",
    "from selenium.webdriver.chrome.options import Options\n",
    "from selenium.webdriver.common.by import By\n",
    "from selenium.webdriver.common.action_chains import ActionChains\n",
    "from selenium.webdriver.support.ui import WebDriverWait\n",
    "from selenium.webdriver.support import expected_conditions as EC\n",
    "from selenium.common.exceptions import TimeoutException\n",
    "import numpy as np\n",
    "import pandas as pd"
   ]
  },
  {
   "cell_type": "code",
   "execution_count": 43,
   "id": "a6337a91",
   "metadata": {},
   "outputs": [],
   "source": [
    "#Accediendo al driver\n",
    "driver_path = '../chromedriver_mac64/chromedriver'\n",
    "chrome_options = Options()\n",
    "chrome_options.add_argument(\"--window-size=1920x1080\")\n",
    "driver = webdriver.Chrome(service = Service(driver_path))\n",
    "url = 'https://www.metrocuadrado.com/apartamentos/arriendo/bogota/'"
   ]
  },
  {
   "cell_type": "code",
   "execution_count": 184,
   "id": "3d35e60b",
   "metadata": {},
   "outputs": [],
   "source": [
    "#Abrir página principal;\n",
    "driver.get(url)"
   ]
  },
  {
   "cell_type": "markdown",
   "id": "c68c7b69",
   "metadata": {},
   "source": [
    "#### Filtros"
   ]
  },
  {
   "cell_type": "code",
   "execution_count": 45,
   "id": "266f2add",
   "metadata": {},
   "outputs": [],
   "source": [
    "#Identificando XPATHS para simular eventos de clicks y scroll que requiero para utilizar los filtros."
   ]
  },
  {
   "cell_type": "code",
   "execution_count": 46,
   "id": "c7a91039",
   "metadata": {},
   "outputs": [],
   "source": [
    "boton_filtro_habitaciones_1 = '//input[@id=\"room-list-1\"]/following-sibling::span[@class=\"custom-control-description\"]'"
   ]
  },
  {
   "cell_type": "code",
   "execution_count": 47,
   "id": "a694802c",
   "metadata": {},
   "outputs": [],
   "source": [
    "boton_filtro_habitaciones_2 = '//input[@id=\"room-list-2\"]/following-sibling::span[@class=\"custom-control-description\"]'"
   ]
  },
  {
   "cell_type": "code",
   "execution_count": 48,
   "id": "cf9d3b44",
   "metadata": {},
   "outputs": [],
   "source": [
    "scroll_element = '//div[@class=\"save-filter-search mb-2\"]'\n"
   ]
  },
  {
   "cell_type": "code",
   "execution_count": 49,
   "id": "85cdf8ba",
   "metadata": {},
   "outputs": [],
   "source": [
    "boton_estrato = '//div[@class=\"m2-select__value-container m2-select__value-container--is-multi css-1hwfws3\"]'"
   ]
  },
  {
   "cell_type": "code",
   "execution_count": 52,
   "id": "668f5ddd",
   "metadata": {},
   "outputs": [],
   "source": [
    "boton_filtro_estrato_4 = '//div[@id=\"react-select-9-option-3\"]'"
   ]
  },
  {
   "cell_type": "code",
   "execution_count": 53,
   "id": "1f90bbfb",
   "metadata": {},
   "outputs": [],
   "source": [
    "boton_filtro_estrato_5 = '//div[@id=\"react-select-9-option-4\"]'"
   ]
  },
  {
   "cell_type": "code",
   "execution_count": 54,
   "id": "2956cc96",
   "metadata": {},
   "outputs": [],
   "source": [
    "scroll_element = '//div[@id=\"react-select-9-option-7\"]'"
   ]
  },
  {
   "cell_type": "code",
   "execution_count": 55,
   "id": "b26d3ba0",
   "metadata": {},
   "outputs": [],
   "source": [
    "boton_filtro_estrato_6 = '//div[@id=\"react-select-9-option-5\"]'"
   ]
  },
  {
   "cell_type": "markdown",
   "id": "b43988cf",
   "metadata": {},
   "source": [
    "#### Página de inicio"
   ]
  },
  {
   "cell_type": "code",
   "execution_count": 57,
   "id": "1babd0b3",
   "metadata": {},
   "outputs": [],
   "source": [
    "apartamentos_web_elements = driver.find_elements(By.XPATH, '//li[@class=\"sc-gPEVay dibcyk\"]/div[@class=\"card-header\"]/a')"
   ]
  },
  {
   "cell_type": "code",
   "execution_count": 58,
   "id": "39a85a1d",
   "metadata": {},
   "outputs": [],
   "source": [
    "#Obteniendo url de cada uno de los apartamentos\n",
    "apartamentos_urls = []\n",
    "for i in apartamentos_web_elements:\n",
    "    href = i.get_attribute('href')\n",
    "    apartamentos_urls.append(href)"
   ]
  },
  {
   "cell_type": "code",
   "execution_count": 59,
   "id": "d5c8898f",
   "metadata": {},
   "outputs": [],
   "source": [
    "#Abrir nueva pestaña y posicionar driver en la misma.\n",
    "driver.execute_script(\"window.open('');\")\n",
    "driver.switch_to.window(driver.window_handles[1])"
   ]
  },
  {
   "cell_type": "code",
   "execution_count": 60,
   "id": "c0cafc76",
   "metadata": {},
   "outputs": [],
   "source": [
    "#Abrir url\n",
    "driver.get(apartamentos_urls[0])"
   ]
  },
  {
   "cell_type": "markdown",
   "id": "b25c963c",
   "metadata": {},
   "source": [
    "#### Página de cada apartamento"
   ]
  },
  {
   "cell_type": "code",
   "execution_count": 82,
   "id": "82ec2273",
   "metadata": {},
   "outputs": [],
   "source": [
    "datos_resaltados_we = driver.find_elements(By.XPATH, '//li[@class=\"Li-sc-1knn373-0 ctJpwh\"]/div[contains(@class, \"py-2\")]//h2')[1:]"
   ]
  },
  {
   "cell_type": "code",
   "execution_count": 62,
   "id": "c97f2ec0",
   "metadata": {},
   "outputs": [
    {
     "data": {
      "text/plain": [
       "[{'name': 'Habitaciones', 'value': '2'},\n",
       " {'name': 'Baños', 'value': '3'},\n",
       " {'name': 'Estrato', 'value': '6'}]"
      ]
     },
     "execution_count": 62,
     "metadata": {},
     "output_type": "execute_result"
    }
   ],
   "source": [
    "#Obtener valores de habitaciones, baños y estrato. Luego guardarlos en una lista de diccionarios.\n",
    "datos_resaltados_limpios = []\n",
    "for i in datos_resaltados_we:\n",
    "    name = i.text.split('\\n')[1]\n",
    "    value = i.text.split('\\n')[0]\n",
    "    datos_resaltados_limpios.append({'name': name, 'value': value })\n",
    "datos_resaltados_limpios \n",
    "\n",
    "\n"
   ]
  },
  {
   "cell_type": "code",
   "execution_count": 68,
   "id": "5c8ea0b2",
   "metadata": {},
   "outputs": [],
   "source": [
    "#Validar que la información sea consistente. Hay apartamentos que no tienen todos los datos.\n",
    "for i in datos_resaltados_limpios:\n",
    "    if 'Habitaciones' in i['name']:\n",
    "        habitaciones = i['value']\n",
    "    if 'Baños' in i['name']:\n",
    "        banos = i['value']\n",
    "    if 'Estrato' in i['name']:\n",
    "        estrato = i['value']"
   ]
  },
  {
   "cell_type": "code",
   "execution_count": 81,
   "id": "e11da857",
   "metadata": {},
   "outputs": [],
   "source": [
    "datos_principales_we = driver.find_elements(By.XPATH, '//div[@class=\"Col-sc-14ninbu-0 lfGZKA mb-3 pb-1 col-12 col-lg-3\"]')"
   ]
  },
  {
   "cell_type": "code",
   "execution_count": 67,
   "id": "fe56d0d6",
   "metadata": {},
   "outputs": [
    {
     "data": {
      "text/plain": [
       "[{'name': 'Código inmueble', 'value': '13036-M4062128'},\n",
       " {'name': 'Barrio común', 'value': 'CHICO NORTE III'},\n",
       " {'name': 'Antigüedad', 'value': 'Más de 20 años'},\n",
       " {'name': 'Área construida', 'value': '98 m²'},\n",
       " {'name': 'Área privada', 'value': '98 m²'},\n",
       " {'name': 'Valor arriendo', 'value': '$4.000.000'},\n",
       " {'name': 'Valor administración', 'value': '$800.000'},\n",
       " {'name': 'Parqueaderos', 'value': '1'}]"
      ]
     },
     "execution_count": 67,
     "metadata": {},
     "output_type": "execute_result"
    }
   ],
   "source": [
    "#Obtener demás valores del apartamento. Luego guardarlos en una lista de diccionarios.\n",
    "datos_principales_limpios = []\n",
    "for i in datos_principales_we:\n",
    "    name = i.find_element(By.XPATH, './h3').text\n",
    "    value = i.find_element(By.XPATH, './p').text\n",
    "    datos_principales_limpios.append({'name': name, 'value': value })\n",
    "datos_principales_limpios"
   ]
  },
  {
   "cell_type": "code",
   "execution_count": 70,
   "id": "13bfdf6e",
   "metadata": {},
   "outputs": [],
   "source": [
    "#Validar que la información sea consistente. Hay apartamentos que no tienen todos los datos.\n",
    "for i in datos_principales_limpios:\n",
    "    if 'Código inmueble' in i['name']:\n",
    "        codigo_inmueble = i['value']\n",
    "    if 'Barrio común' in i['name']:\n",
    "        barrio = i['value']\n",
    "    if 'Antigüedad' in i['name']:\n",
    "        antiguedad = i['value']\n",
    "    if 'Área construida' in i['name']:\n",
    "        area_construida = i['value']\n",
    "    if 'Área privada' in i['name']:\n",
    "        area_privada = i['value']\n",
    "    if 'Valor arriendo' in i['name']:\n",
    "        valor_arriendo = i['value']\n",
    "    if 'Valor administración' in i['name']:\n",
    "        valor_administracion = i['value']\n",
    "    if 'Parqueaderos' in i['name']:\n",
    "        parqueadero = i['value']"
   ]
  },
  {
   "cell_type": "markdown",
   "id": "d5e0cc4a",
   "metadata": {},
   "source": [
    "#### Limpieza de datos"
   ]
  },
  {
   "cell_type": "code",
   "execution_count": 71,
   "id": "9aad9946",
   "metadata": {},
   "outputs": [],
   "source": [
    "# Dar formato a los datos para extaerlos limpios y facilitar su tratamiento."
   ]
  },
  {
   "cell_type": "code",
   "execution_count": 72,
   "id": "de936b5b",
   "metadata": {},
   "outputs": [
    {
     "data": {
      "text/plain": [
       "'Chico Norte Iii'"
      ]
     },
     "execution_count": 72,
     "metadata": {},
     "output_type": "execute_result"
    }
   ],
   "source": [
    "barrio.title()"
   ]
  },
  {
   "cell_type": "code",
   "execution_count": 73,
   "id": "f69d2621",
   "metadata": {},
   "outputs": [
    {
     "data": {
      "text/plain": [
       "'Más de 20 años'"
      ]
     },
     "execution_count": 73,
     "metadata": {},
     "output_type": "execute_result"
    }
   ],
   "source": [
    "antiguedad"
   ]
  },
  {
   "cell_type": "code",
   "execution_count": 74,
   "id": "64f94ca3",
   "metadata": {},
   "outputs": [
    {
     "data": {
      "text/plain": [
       "'98'"
      ]
     },
     "execution_count": 74,
     "metadata": {},
     "output_type": "execute_result"
    }
   ],
   "source": [
    "area_construida.split(' m')[0]"
   ]
  },
  {
   "cell_type": "code",
   "execution_count": 75,
   "id": "35e43c2b",
   "metadata": {},
   "outputs": [
    {
     "data": {
      "text/plain": [
       "'98'"
      ]
     },
     "execution_count": 75,
     "metadata": {},
     "output_type": "execute_result"
    }
   ],
   "source": [
    "area_privada.split(' m')[0]"
   ]
  },
  {
   "cell_type": "code",
   "execution_count": 76,
   "id": "41c549f0",
   "metadata": {},
   "outputs": [
    {
     "data": {
      "text/plain": [
       "'4000000'"
      ]
     },
     "execution_count": 76,
     "metadata": {},
     "output_type": "execute_result"
    }
   ],
   "source": [
    "valor_arriendo.split('$')[1].replace('.','')"
   ]
  },
  {
   "cell_type": "code",
   "execution_count": 77,
   "id": "9575a7f3",
   "metadata": {},
   "outputs": [
    {
     "data": {
      "text/plain": [
       "'800000'"
      ]
     },
     "execution_count": 77,
     "metadata": {},
     "output_type": "execute_result"
    }
   ],
   "source": [
    "valor_administracion.split('$')[1].replace('.','')"
   ]
  },
  {
   "cell_type": "code",
   "execution_count": 78,
   "id": "6fc09e01",
   "metadata": {},
   "outputs": [
    {
     "data": {
      "text/plain": [
       "'1'"
      ]
     },
     "execution_count": 78,
     "metadata": {},
     "output_type": "execute_result"
    }
   ],
   "source": [
    "parqueadero"
   ]
  },
  {
   "cell_type": "code",
   "execution_count": 79,
   "id": "40d0095d",
   "metadata": {},
   "outputs": [
    {
     "data": {
      "text/plain": [
       "'Chicó'"
      ]
     },
     "execution_count": 79,
     "metadata": {},
     "output_type": "execute_result"
    }
   ],
   "source": [
    "sector = driver.find_element(By.XPATH, '//p[@class=\"P-sc-31hrrf-0 hGwghD card-subtitle\"]').text\n",
    "if 'Sector' in sector:\n",
    "    sector = sector.split(',')[0].split('Sector ')[1]\n",
    "else:\n",
    "    sector = sector.split('Área')[0].strip()\n",
    "sector"
   ]
  },
  {
   "cell_type": "markdown",
   "id": "72cdfcf4",
   "metadata": {},
   "source": [
    "## Organizando todo en funciones"
   ]
  },
  {
   "cell_type": "code",
   "execution_count": 2,
   "id": "5de5d1a3",
   "metadata": {},
   "outputs": [],
   "source": [
    "#Función del driver de Chrome.\n",
    "def set_driver():\n",
    "    driver_path = '../chromedriver_mac64/chromedriver'\n",
    "    chrome_options = Options()\n",
    "    chrome_options.add_argument(\"--window-size=1920x1080\")\n",
    "    driver = webdriver.Chrome(service = Service(driver_path))\n",
    "    driver.get(url)\n",
    "    WebDriverWait(driver, delay).until(EC.presence_of_element_located((By.XPATH, '//li[@class=\"sc-gPEVay dibcyk\"]/div[@class=\"card-header\"]/a')))"
   ]
  },
  {
   "cell_type": "code",
   "execution_count": 3,
   "id": "8639f439",
   "metadata": {},
   "outputs": [],
   "source": [
    "#Función para ejecutar scroll segun el xpath.\n",
    "def scroll(xpath_route):\n",
    "    scroll_element = driver.find_element(By.XPATH, xpath_route) \n",
    "    actions = ActionChains(driver)\n",
    "    actions.move_to_element(scroll_element).perform()"
   ]
  },
  {
   "cell_type": "code",
   "execution_count": 22,
   "id": "08b8c921",
   "metadata": {},
   "outputs": [],
   "source": [
    "#Función para filtrar apartamentos en específico.\n",
    "def page_filter():\n",
    "    boton_filtro_habitaciones_1 = driver.find_element(By.XPATH, '//input[@id=\"room-list-1\"]/following-sibling::span[@class=\"custom-control-description\"]').click()\n",
    "    boton_filtro_habitaciones_2 = driver.find_element(By.XPATH, '//input[@id=\"room-list-2\"]/following-sibling::span[@class=\"custom-control-description\"]').click()\n",
    "    scroll('//div[@id=\"mthResultsStealPages\"]')\n",
    "    boton_estrato = driver.find_element(By.XPATH, '//div[@class=\"m2-select__value-container m2-select__value-container--is-multi css-1hwfws3\"]').click()\n",
    "    scroll('//div[@id=\"react-select-9-option-7\"]')\n",
    "    boton_filtro_estrato_4 = driver.find_element(By.XPATH, '//div[@id=\"react-select-9-option-3\"]').click()\n",
    "    boton_filtro_estrato_5 = driver.find_element(By.XPATH, '//div[@id=\"react-select-9-option-4\"]').click()    \n",
    "    #ACA HAY UN PROBLEMA, PORQUE EMPIEZA A CARGAR EL FILTRO DE ESTRATO 4 Y 5 Y CIERRA EL DROP DOWN, ENTONCES YA NO DEJA CLICKEAR EL 6\n",
    "    boton_filtro_estrato_6 = driver.find_element(By.XPATH, '//div[@id=\"react-select-9-option-5\"]').click()"
   ]
  },
  {
   "cell_type": "code",
   "execution_count": 5,
   "id": "0f5c8b33",
   "metadata": {},
   "outputs": [],
   "source": [
    "#Función para scrapear página principal y obtener urls de los apartamentos.\n",
    "def home_page_scrap():\n",
    "    apartments_web_elements = driver.find_elements(By.XPATH, '//li[@class=\"sc-gPEVay dibcyk\"]/div[@class=\"card-header\"]/a')\n",
    "    apartments_urls = []\n",
    "    for element in apartments_web_elements:\n",
    "        href = element.get_attribute('href')\n",
    "        apartments_urls.append(href)\n",
    "    return apartments_urls"
   ]
  },
  {
   "cell_type": "code",
   "execution_count": 6,
   "id": "af4e6135",
   "metadata": {},
   "outputs": [],
   "source": [
    "#Función para scrapear página de cada apartamento.\n",
    "def apartment_page_scrap(apartment_url): \n",
    "    driver.execute_script(\"window.open('');\")\n",
    "    driver.switch_to.window(driver.window_handles[1])\n",
    "    driver.get(apartment_url)\n",
    "#Reestablecer valores a nan \n",
    "    habitaciones = np.nan\n",
    "    banos = np.nan\n",
    "    estrato = np.nan\n",
    "    codigo_inmueble = np.nan\n",
    "    barrio = np.nan\n",
    "    antiguedad = np.nan\n",
    "    area_construida = np.nan\n",
    "    area_privada = np.nan\n",
    "    valor_arriendo = np.nan\n",
    "    valor_administracion = np.nan\n",
    "    parqueadero = np.nan\n",
    "    sector = np.nan\n",
    "\n",
    "#Obtener datos resaltados (habitaciones, banos y estrato).\n",
    "    datos_resaltados_we = driver.find_elements(By.XPATH, '//li[@class=\"Li-sc-1knn373-0 ctJpwh\"]/div[contains(@class, \"py-2\")]//h2')[1:]\n",
    "    datos_limpios = []\n",
    "    \n",
    "    for i in datos_resaltados_we:\n",
    "        name = i.text.split('\\n')[1]\n",
    "        value = i.text.split('\\n')[0]\n",
    "        datos_limpios.append({'name': name, 'value': value })\n",
    "\n",
    "    \n",
    "#Obtener datos principales(codigo_inmueble, barrio, ...sector).\n",
    "    datos_principales_we = driver.find_elements(By.XPATH, '//div[@class=\"Col-sc-14ninbu-0 lfGZKA mb-3 pb-1 col-12 col-lg-3\"]')  \n",
    "    \n",
    "    for i in datos_principales_we:\n",
    "        name = i.find_element(By.XPATH, './h3').text\n",
    "        value = i.find_element(By.XPATH, './p').text\n",
    "        datos_limpios.append({'name': name, 'value': value })   \n",
    "\n",
    "#Evaluar que estén todos los datos y que coincidan.\n",
    "\n",
    "    for i in datos_limpios:\n",
    "        if 'Habitaciones' in i['name']:\n",
    "            habitaciones = i['value']\n",
    "        if 'Baños' in i['name']:\n",
    "            banos = i['value']\n",
    "        if 'Estrato' in i['name']:\n",
    "            estrato = i['value']\n",
    "        if 'Código inmueble' in i['name']:\n",
    "            codigo_inmueble = i['value']\n",
    "        if 'Barrio común' in i['name']:\n",
    "            barrio = i['value'].title()\n",
    "        if 'Antigüedad' in i['name']:\n",
    "            antiguedad = i['value']\n",
    "        if 'Área construida' in i['name']:\n",
    "            area_construida = i['value'].split(' m')[0]\n",
    "        if 'Área privada' in i['name']:\n",
    "            area_privada = i['value'].split(' m')[0]\n",
    "        if 'Valor arriendo' in i['name']:\n",
    "            valor_arriendo = i['value'].split('$')[1].replace('.','')\n",
    "        if 'Valor administración' in i['name']:\n",
    "            valor_administracion = i['value'].split('$')[1].replace('.','')\n",
    "        if 'Parqueaderos' in i['name']:\n",
    "            parqueadero = i['value']\n",
    "    \n",
    "    \n",
    "    sector = driver.find_element(By.XPATH, '//p[@class=\"P-sc-31hrrf-0 hGwghD card-subtitle\"]').text\n",
    "    if 'Sector' in sector:\n",
    "        sector = sector.split(',')[0].split('Sector ')[1]\n",
    "    else:\n",
    "        sector = sector.split('Área')[0].strip()\n",
    "        \n",
    "#Anexar información extraida de cada apartamento al consolidado. \n",
    "    info.append({'codigo_inmueble' : codigo_inmueble,\n",
    "         'sector' : sector,\n",
    "         'barrio' : barrio,\n",
    "         'estrato': estrato, \n",
    "         'valor_arriendo' : valor_arriendo,\n",
    "         'valor_administracion' : valor_administracion,\n",
    "         'area_construida' : area_construida,\n",
    "         'area_privada' : area_privada,\n",
    "         'antiguedad' : antiguedad,\n",
    "         'habitaciones': habitaciones,\n",
    "         'banos': banos,       \n",
    "         'parqueadero' : parqueadero,\n",
    "         'url': apartment_url\n",
    "        })\n",
    "    driver.close()\n",
    "    driver.switch_to.window(driver.window_handles[0])"
   ]
  },
  {
   "cell_type": "code",
   "execution_count": 7,
   "id": "517ff26b",
   "metadata": {},
   "outputs": [],
   "source": [
    "#Función para scrapear todas las páginas de apartamentos según el filtro elegido.\n",
    "def obtener_info():\n",
    "    while True:\n",
    "        delay = 10\n",
    "        WebDriverWait(driver, delay).until(EC.presence_of_element_located((By.XPATH, '//li[@class=\"sc-gPEVay dibcyk\"]/div[@class=\"card-header\"]/a')))\n",
    "        apartments_urls = home_page_scrap()\n",
    "        for apartment in apartments_urls:\n",
    "              apartment_page_scrap(apartment)\n",
    "        #Click en el botón para continuar con la siguiente página:\n",
    "        scroll('//h2[@class=\"H2-kplljn-0 igCxTv title-prefooter upper-text \"]')\n",
    "        next = driver.find_element(By.XPATH, '//li[@class=\"item-icon-next page-item\"]/a[@class=\"sc-bdVaJa ebNrSm page-link\"][@aria-label=\"Next\"]').click()"
   ]
  },
  {
   "cell_type": "code",
   "execution_count": null,
   "id": "1e9fbaca",
   "metadata": {},
   "outputs": [],
   "source": [
    "#Ejecutar código\n",
    "info = []\n",
    "url = 'https://www.metrocuadrado.com/apartamentos/arriendo/bogota/'\n",
    "delay = 15\n",
    "driver_path = '../chromedriver_mac64/chromedriver'\n",
    "chrome_options = Options()\n",
    "chrome_options.add_argument(\"--window-size=1920x1080\")\n",
    "driver = webdriver.Chrome(service = Service(driver_path))\n",
    "driver.get(url)\n",
    "WebDriverWait(driver, delay).until(EC.presence_of_element_located((By.XPATH, '//li[@class=\"sc-gPEVay dibcyk\"]/div[@class=\"card-header\"]/a')))\n",
    "page_filter()\n",
    "obtener_info()\n",
    "driver.close()"
   ]
  },
  {
   "cell_type": "code",
   "execution_count": 30,
   "id": "b8409dc5",
   "metadata": {},
   "outputs": [
    {
     "data": {
      "text/plain": [
       "[{'codigo_inmueble': '359-M4437421',\n",
       "  'sector': 'Chapinero Alto',\n",
       "  'barrio': 'Marly Chapinero',\n",
       "  'estrato': '4',\n",
       "  'valor_arriendo': '7623530',\n",
       "  'valor_administracion': '1928000',\n",
       "  'area_construida': '184',\n",
       "  'area_privada': '184',\n",
       "  'antiguedad': 'Entre 10 y 20 años',\n",
       "  'habitaciones': '1',\n",
       "  'banos': '2',\n",
       "  'parqueadero': nan,\n",
       "  'url': 'https://www.metrocuadrado.com/inmueble/arriendo-apartamento-bogota-marly-1-habitaciones-2-banos/359-M4437421'},\n",
       " {'codigo_inmueble': '2941-M3670392',\n",
       "  'sector': 'Normandía',\n",
       "  'barrio': 'Normandia',\n",
       "  'estrato': '4',\n",
       "  'valor_arriendo': '1300000',\n",
       "  'valor_administracion': '280000',\n",
       "  'area_construida': '56',\n",
       "  'area_privada': '54',\n",
       "  'antiguedad': 'Más de 20 años',\n",
       "  'habitaciones': '2',\n",
       "  'banos': '2',\n",
       "  'parqueadero': '1',\n",
       "  'url': 'https://www.metrocuadrado.com/inmueble/arriendo-apartamento-bogota-normandia-2-habitaciones-2-banos-1-garajes/2941-M3670392'},\n",
       " {'codigo_inmueble': '2214-M4489363',\n",
       "  'sector': 'Cedritos',\n",
       "  'barrio': 'Cerros',\n",
       "  'estrato': '4',\n",
       "  'valor_arriendo': '1900000',\n",
       "  'valor_administracion': '220000',\n",
       "  'area_construida': '35',\n",
       "  'area_privada': '30',\n",
       "  'antiguedad': 'Entre 0 y 5 años',\n",
       "  'habitaciones': '1',\n",
       "  'banos': '1',\n",
       "  'parqueadero': nan,\n",
       "  'url': 'https://www.metrocuadrado.com/inmueble/arriendo-apartamento-bogota-a.s.d.-1-habitaciones-1-banos/2214-M4489363'},\n",
       " {'codigo_inmueble': '13294-M4438617',\n",
       "  'sector': 'Centro y Zona Colonial',\n",
       "  'barrio': 'Teusaquillo Teusaquillo',\n",
       "  'estrato': '4',\n",
       "  'valor_arriendo': '3000000',\n",
       "  'valor_administracion': '500000',\n",
       "  'area_construida': '77',\n",
       "  'area_privada': '77',\n",
       "  'antiguedad': 'Entre 0 y 5 años',\n",
       "  'habitaciones': '2',\n",
       "  'banos': '2',\n",
       "  'parqueadero': '1',\n",
       "  'url': 'https://www.metrocuadrado.com/inmueble/arriendo-apartamento-bogota-santa-fe-2-habitaciones-2-banos-1-garajes/13294-M4438617'},\n",
       " {'codigo_inmueble': '2361-M4438287',\n",
       "  'sector': 'Cedritos',\n",
       "  'barrio': 'Cedritos Usaquen',\n",
       "  'estrato': '4',\n",
       "  'valor_arriendo': '2550000',\n",
       "  'valor_administracion': nan,\n",
       "  'area_construida': '68',\n",
       "  'area_privada': '68',\n",
       "  'antiguedad': 'Entre 0 y 5 años',\n",
       "  'habitaciones': '2',\n",
       "  'banos': '2',\n",
       "  'parqueadero': '1',\n",
       "  'url': 'https://www.metrocuadrado.com/inmueble/arriendo-apartamento-bogota-los-cedritos-2-habitaciones-2-banos-1-garajes/2361-M4438287'},\n",
       " {'codigo_inmueble': '293-M4491235',\n",
       "  'sector': 'Cedritos',\n",
       "  'barrio': 'Cedro Golf',\n",
       "  'estrato': '4',\n",
       "  'valor_arriendo': '2530000',\n",
       "  'valor_administracion': '327000',\n",
       "  'area_construida': '63',\n",
       "  'area_privada': '63',\n",
       "  'antiguedad': 'Entre 0 y 5 años',\n",
       "  'habitaciones': '2',\n",
       "  'banos': '2',\n",
       "  'parqueadero': '1',\n",
       "  'url': 'https://www.metrocuadrado.com/inmueble/arriendo-apartamento-bogota-cedro-madeiras-2-habitaciones-2-banos-1-garajes/293-M4491235'},\n",
       " {'codigo_inmueble': '350-M4489622',\n",
       "  'sector': 'La Soledad',\n",
       "  'barrio': 'Palermo Teusaquillo',\n",
       "  'estrato': '4',\n",
       "  'valor_arriendo': '1250000',\n",
       "  'valor_administracion': '164000',\n",
       "  'area_construida': '34',\n",
       "  'area_privada': '34',\n",
       "  'antiguedad': 'Más de 20 años',\n",
       "  'habitaciones': '1',\n",
       "  'banos': '1',\n",
       "  'parqueadero': nan,\n",
       "  'url': 'https://www.metrocuadrado.com/inmueble/arriendo-apartamento-bogota-santa-teresita-1-habitaciones-1-banos/350-M4489622'},\n",
       " {'codigo_inmueble': '991-M4488067',\n",
       "  'sector': 'Chapinero',\n",
       "  'barrio': 'San Luis Teusaquillo',\n",
       "  'estrato': '4',\n",
       "  'valor_arriendo': '3185600',\n",
       "  'valor_administracion': '314400',\n",
       "  'area_construida': '79',\n",
       "  'area_privada': '79',\n",
       "  'antiguedad': 'Entre 5 y 10 años',\n",
       "  'habitaciones': '2',\n",
       "  'banos': '3',\n",
       "  'parqueadero': '1',\n",
       "  'url': 'https://www.metrocuadrado.com/inmueble/arriendo-apartamento-bogota-san-luis-2-habitaciones-3-banos-1-garajes/991-M4488067'},\n",
       " {'codigo_inmueble': '10323-M4487517',\n",
       "  'sector': 'Chapinero Alto',\n",
       "  'barrio': 'Chapinero',\n",
       "  'estrato': '4',\n",
       "  'valor_arriendo': '3454000',\n",
       "  'valor_administracion': '546000',\n",
       "  'area_construida': '90',\n",
       "  'area_privada': '90',\n",
       "  'antiguedad': 'Más de 20 años',\n",
       "  'habitaciones': '1',\n",
       "  'banos': '2',\n",
       "  'parqueadero': '1',\n",
       "  'url': 'https://www.metrocuadrado.com/inmueble/arriendo-apartamento-bogota-sucre-1-habitaciones-2-banos-1-garajes/10323-M4487517'},\n",
       " {'codigo_inmueble': '164-M4487582',\n",
       "  'sector': 'Colina y Alrededores',\n",
       "  'barrio': 'Colina Campestre',\n",
       "  'estrato': '4',\n",
       "  'valor_arriendo': '1600000',\n",
       "  'valor_administracion': nan,\n",
       "  'area_construida': '44',\n",
       "  'area_privada': '44',\n",
       "  'antiguedad': 'Entre 5 y 10 años',\n",
       "  'habitaciones': '1',\n",
       "  'banos': '1',\n",
       "  'parqueadero': '1',\n",
       "  'url': 'https://www.metrocuadrado.com/inmueble/arriendo-apartamento-bogota-cantalejo-1-habitaciones-1-banos-1-garajes/164-M4487582'}]"
      ]
     },
     "execution_count": 30,
     "metadata": {},
     "output_type": "execute_result"
    }
   ],
   "source": [
    "#Validar como quedó el diccionario\n",
    "info[:10]"
   ]
  },
  {
   "cell_type": "code",
   "execution_count": 26,
   "id": "b73978a4",
   "metadata": {},
   "outputs": [
    {
     "data": {
      "text/plain": [
       "3694"
      ]
     },
     "execution_count": 26,
     "metadata": {},
     "output_type": "execute_result"
    }
   ],
   "source": [
    "#Contar de cuántos apartamentos se extrajo la información.\n",
    "len(info)"
   ]
  },
  {
   "cell_type": "code",
   "execution_count": 27,
   "id": "6d5e1e6a",
   "metadata": {},
   "outputs": [],
   "source": [
    "#Convertir lista de diccionarios a un dataframe con pandas.\n",
    "df = pd.DataFrame(info)"
   ]
  },
  {
   "cell_type": "code",
   "execution_count": 28,
   "id": "0fad0efe",
   "metadata": {
    "scrolled": false
   },
   "outputs": [
    {
     "data": {
      "text/html": [
       "<div>\n",
       "<style scoped>\n",
       "    .dataframe tbody tr th:only-of-type {\n",
       "        vertical-align: middle;\n",
       "    }\n",
       "\n",
       "    .dataframe tbody tr th {\n",
       "        vertical-align: top;\n",
       "    }\n",
       "\n",
       "    .dataframe thead th {\n",
       "        text-align: right;\n",
       "    }\n",
       "</style>\n",
       "<table border=\"1\" class=\"dataframe\">\n",
       "  <thead>\n",
       "    <tr style=\"text-align: right;\">\n",
       "      <th></th>\n",
       "      <th>codigo_inmueble</th>\n",
       "      <th>sector</th>\n",
       "      <th>barrio</th>\n",
       "      <th>estrato</th>\n",
       "      <th>valor_arriendo</th>\n",
       "      <th>valor_administracion</th>\n",
       "      <th>area_construida</th>\n",
       "      <th>area_privada</th>\n",
       "      <th>antiguedad</th>\n",
       "      <th>habitaciones</th>\n",
       "      <th>banos</th>\n",
       "      <th>parqueadero</th>\n",
       "      <th>url</th>\n",
       "    </tr>\n",
       "  </thead>\n",
       "  <tbody>\n",
       "    <tr>\n",
       "      <th>3689</th>\n",
       "      <td>175-M4428546</td>\n",
       "      <td>Chicó</td>\n",
       "      <td>Chico Norte</td>\n",
       "      <td>5</td>\n",
       "      <td>4000000</td>\n",
       "      <td>604000</td>\n",
       "      <td>63</td>\n",
       "      <td>63</td>\n",
       "      <td>Entre 10 y 20 años</td>\n",
       "      <td>2</td>\n",
       "      <td>2</td>\n",
       "      <td>NaN</td>\n",
       "      <td>https://www.metrocuadrado.com/inmueble/arriend...</td>\n",
       "    </tr>\n",
       "    <tr>\n",
       "      <th>3690</th>\n",
       "      <td>MC4260493</td>\n",
       "      <td>Cedritos</td>\n",
       "      <td>Belmira</td>\n",
       "      <td>4</td>\n",
       "      <td>1600000</td>\n",
       "      <td>301400</td>\n",
       "      <td>43</td>\n",
       "      <td>43</td>\n",
       "      <td>Más de 20 años</td>\n",
       "      <td>1</td>\n",
       "      <td>1</td>\n",
       "      <td>1</td>\n",
       "      <td>https://www.metrocuadrado.com/inmueble/arriend...</td>\n",
       "    </tr>\n",
       "    <tr>\n",
       "      <th>3691</th>\n",
       "      <td>MC4454730</td>\n",
       "      <td>Chicó</td>\n",
       "      <td>Santa Bárbara Occidental</td>\n",
       "      <td>6</td>\n",
       "      <td>6200000</td>\n",
       "      <td>NaN</td>\n",
       "      <td>107</td>\n",
       "      <td>88</td>\n",
       "      <td>Entre 0 y 5 años</td>\n",
       "      <td>2</td>\n",
       "      <td>2</td>\n",
       "      <td>2</td>\n",
       "      <td>https://www.metrocuadrado.com/inmueble/arriend...</td>\n",
       "    </tr>\n",
       "    <tr>\n",
       "      <th>3692</th>\n",
       "      <td>MC4491486</td>\n",
       "      <td>Salitre Modelia</td>\n",
       "      <td>Modelia</td>\n",
       "      <td>4</td>\n",
       "      <td>1500000</td>\n",
       "      <td>NaN</td>\n",
       "      <td>65</td>\n",
       "      <td>60</td>\n",
       "      <td>Entre 10 y 20 años</td>\n",
       "      <td>2</td>\n",
       "      <td>2</td>\n",
       "      <td>NaN</td>\n",
       "      <td>https://www.metrocuadrado.com/inmueble/arriend...</td>\n",
       "    </tr>\n",
       "    <tr>\n",
       "      <th>3693</th>\n",
       "      <td>MC4491859</td>\n",
       "      <td>Santa Bárbara</td>\n",
       "      <td>Chico San Patricio Chicó</td>\n",
       "      <td>6</td>\n",
       "      <td>3000000</td>\n",
       "      <td>NaN</td>\n",
       "      <td>90</td>\n",
       "      <td>90</td>\n",
       "      <td>Más de 20 años</td>\n",
       "      <td>2</td>\n",
       "      <td>3</td>\n",
       "      <td>1</td>\n",
       "      <td>https://www.metrocuadrado.com/inmueble/arriend...</td>\n",
       "    </tr>\n",
       "  </tbody>\n",
       "</table>\n",
       "</div>"
      ],
      "text/plain": [
       "     codigo_inmueble           sector                    barrio estrato  \\\n",
       "3689    175-M4428546            Chicó               Chico Norte       5   \n",
       "3690       MC4260493         Cedritos                   Belmira       4   \n",
       "3691       MC4454730            Chicó  Santa Bárbara Occidental       6   \n",
       "3692       MC4491486  Salitre Modelia                   Modelia       4   \n",
       "3693       MC4491859    Santa Bárbara  Chico San Patricio Chicó       6   \n",
       "\n",
       "     valor_arriendo valor_administracion area_construida area_privada  \\\n",
       "3689        4000000               604000              63           63   \n",
       "3690        1600000               301400              43           43   \n",
       "3691        6200000                  NaN             107           88   \n",
       "3692        1500000                  NaN              65           60   \n",
       "3693        3000000                  NaN              90           90   \n",
       "\n",
       "              antiguedad habitaciones banos parqueadero  \\\n",
       "3689  Entre 10 y 20 años            2     2         NaN   \n",
       "3690      Más de 20 años            1     1           1   \n",
       "3691    Entre 0 y 5 años            2     2           2   \n",
       "3692  Entre 10 y 20 años            2     2         NaN   \n",
       "3693      Más de 20 años            2     3           1   \n",
       "\n",
       "                                                    url  \n",
       "3689  https://www.metrocuadrado.com/inmueble/arriend...  \n",
       "3690  https://www.metrocuadrado.com/inmueble/arriend...  \n",
       "3691  https://www.metrocuadrado.com/inmueble/arriend...  \n",
       "3692  https://www.metrocuadrado.com/inmueble/arriend...  \n",
       "3693  https://www.metrocuadrado.com/inmueble/arriend...  "
      ]
     },
     "execution_count": 28,
     "metadata": {},
     "output_type": "execute_result"
    }
   ],
   "source": [
    "#Revisar que todo esté bien visualizando los últimos registros\n",
    "df.tail()"
   ]
  },
  {
   "cell_type": "code",
   "execution_count": 29,
   "id": "295ea6e5",
   "metadata": {},
   "outputs": [],
   "source": [
    "#Exportar dataframe como un archivo csv.\n",
    "file_path = '/Users/diegotorres/Documents/Learning/Proyectos practicos/Bogota apartments/Propio/data_clean.csv'\n",
    "df.to_csv(file_path, encoding='utf-8', index=False)"
   ]
  }
 ],
 "metadata": {
  "kernelspec": {
   "display_name": "Python 3 (ipykernel)",
   "language": "python",
   "name": "python3"
  },
  "language_info": {
   "codemirror_mode": {
    "name": "ipython",
    "version": 3
   },
   "file_extension": ".py",
   "mimetype": "text/x-python",
   "name": "python",
   "nbconvert_exporter": "python",
   "pygments_lexer": "ipython3",
   "version": "3.9.12"
  }
 },
 "nbformat": 4,
 "nbformat_minor": 5
}
