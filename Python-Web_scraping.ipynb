{
 "cells": [
  {
   "cell_type": "markdown",
   "id": "788625dc",
   "metadata": {},
   "source": [
    "## Selenium"
   ]
  },
  {
   "cell_type": "code",
   "execution_count": 1016,
   "id": "3db04b18",
   "metadata": {},
   "outputs": [],
   "source": [
    "from selenium import webdriver\n",
    "from selenium.webdriver.chrome.service import Service\n",
    "from selenium.webdriver.common.by import By\n",
    "from selenium.webdriver.common.action_chains import ActionChains\n",
    "\n",
    "\n",
    "driver_path = '../chromedriver_mac64/chromedriver'\n",
    "chrome_options = Options()\n",
    "chrome_options.add_argument(\"--window-size=1920x1080\")\n",
    "driver = webdriver.Chrome(service = Service(driver_path))\n"
   ]
  },
  {
   "cell_type": "code",
   "execution_count": 937,
   "id": "7b766015",
   "metadata": {},
   "outputs": [],
   "source": [
    "url = 'https://www.metrocuadrado.com/apartamentos/arriendo/bogota/'\n"
   ]
  },
  {
   "cell_type": "code",
   "execution_count": 1017,
   "id": "1043c69b",
   "metadata": {},
   "outputs": [],
   "source": [
    "driver.get(url)"
   ]
  },
  {
   "cell_type": "markdown",
   "id": "c68c7b69",
   "metadata": {},
   "source": [
    "### Filtros"
   ]
  },
  {
   "cell_type": "code",
   "execution_count": 1018,
   "id": "c7a91039",
   "metadata": {},
   "outputs": [],
   "source": [
    "boton_filtro_habitaciones_1 = driver.find_element(By.XPATH, '//input[@id=\"room-list-1\"]/following-sibling::span[@class=\"custom-control-description\"]')"
   ]
  },
  {
   "cell_type": "code",
   "execution_count": 1019,
   "id": "9dff1c7e",
   "metadata": {},
   "outputs": [],
   "source": [
    "boton_filtro_habitaciones_1.click()"
   ]
  },
  {
   "cell_type": "code",
   "execution_count": 1020,
   "id": "a694802c",
   "metadata": {},
   "outputs": [],
   "source": [
    "boton_filtro_habitaciones_2 = driver.find_element(By.XPATH, '//input[@id=\"room-list-2\"]/following-sibling::span[@class=\"custom-control-description\"]')"
   ]
  },
  {
   "cell_type": "code",
   "execution_count": 1021,
   "id": "5d80daa6",
   "metadata": {},
   "outputs": [],
   "source": [
    "boton_filtro_habitaciones_2.click()"
   ]
  },
  {
   "cell_type": "code",
   "execution_count": 1022,
   "id": "cf9d3b44",
   "metadata": {},
   "outputs": [],
   "source": [
    "scroll_element = driver.find_element(By.XPATH, '//div[@class=\"save-filter-search mb-2\"]') \n",
    "actions = ActionChains(driver)\n",
    "actions.move_to_element(scroll_element).perform()"
   ]
  },
  {
   "cell_type": "code",
   "execution_count": 1031,
   "id": "85cdf8ba",
   "metadata": {},
   "outputs": [],
   "source": [
    "boton_estrato = driver.find_element(By.XPATH, '//div[@class=\"m2-select__value-container m2-select__value-container--is-multi css-1hwfws3\"]')"
   ]
  },
  {
   "cell_type": "code",
   "execution_count": 1032,
   "id": "611355c3",
   "metadata": {},
   "outputs": [],
   "source": [
    "boton_estrato.click()"
   ]
  },
  {
   "cell_type": "code",
   "execution_count": 1033,
   "id": "668f5ddd",
   "metadata": {},
   "outputs": [],
   "source": [
    "boton_filtro_estrato_4 = driver.find_element(By.XPATH, '//div[@id=\"react-select-9-option-3\"]')"
   ]
  },
  {
   "cell_type": "code",
   "execution_count": 1034,
   "id": "b54fdae9",
   "metadata": {},
   "outputs": [],
   "source": [
    "boton_filtro_estrato_4.click()"
   ]
  },
  {
   "cell_type": "code",
   "execution_count": 1035,
   "id": "1f90bbfb",
   "metadata": {},
   "outputs": [],
   "source": [
    "boton_filtro_estrato_5 = driver.find_element(By.XPATH, '//div[@id=\"react-select-9-option-4\"]')"
   ]
  },
  {
   "cell_type": "code",
   "execution_count": 1036,
   "id": "a323f053",
   "metadata": {},
   "outputs": [],
   "source": [
    "boton_filtro_estrato_5.click()\n"
   ]
  },
  {
   "cell_type": "code",
   "execution_count": 1037,
   "id": "2956cc96",
   "metadata": {},
   "outputs": [],
   "source": [
    "scroll_element = driver.find_element(By.XPATH, '//div[@id=\"react-select-9-option-7\"]') \n",
    "actions = ActionChains(driver)\n",
    "actions.move_to_element(scroll_element).perform()"
   ]
  },
  {
   "cell_type": "code",
   "execution_count": 1038,
   "id": "b26d3ba0",
   "metadata": {},
   "outputs": [],
   "source": [
    "boton_filtro_estrato_6 = driver.find_element(By.XPATH, '//div[@id=\"react-select-9-option-5\"]')"
   ]
  },
  {
   "cell_type": "code",
   "execution_count": 1039,
   "id": "f1877b4f",
   "metadata": {},
   "outputs": [],
   "source": [
    "boton_filtro_estrato_6.click()"
   ]
  },
  {
   "cell_type": "markdown",
   "id": "273c175f",
   "metadata": {},
   "source": [
    "## A scrapear"
   ]
  },
  {
   "cell_type": "markdown",
   "id": "b43988cf",
   "metadata": {},
   "source": [
    "### Página de inicio"
   ]
  },
  {
   "cell_type": "code",
   "execution_count": 1040,
   "id": "1babd0b3",
   "metadata": {},
   "outputs": [],
   "source": [
    "apartamentos_web_elements = driver.find_elements(By.XPATH, '//li[@class=\"sc-gPEVay dibcyk\"]/div[@class=\"card-header\"]/a')"
   ]
  },
  {
   "cell_type": "code",
   "execution_count": 1041,
   "id": "39a85a1d",
   "metadata": {},
   "outputs": [],
   "source": [
    "apartamentos_urls = []\n",
    "for i in apartamentos_web_elements:\n",
    "    href = i.get_attribute('href')\n",
    "    apartamentos_urls.append(href)"
   ]
  },
  {
   "cell_type": "code",
   "execution_count": 1098,
   "id": "2d6a4c05",
   "metadata": {},
   "outputs": [
    {
     "data": {
      "text/plain": [
       "'https://www.metrocuadrado.com/inmueble/arriendo-apartamento-bogota-el-redil-1-habitaciones-1-banos/15753-M4275740'"
      ]
     },
     "execution_count": 1098,
     "metadata": {},
     "output_type": "execute_result"
    }
   ],
   "source": [
    "primer_apt = apartamentos_urls[0]\n",
    "primer_apt"
   ]
  },
  {
   "cell_type": "code",
   "execution_count": 1043,
   "id": "d5c8898f",
   "metadata": {},
   "outputs": [],
   "source": [
    "#Abrir nueva pestaña y posicionar driver en la misma.\n",
    "driver.execute_script(\"window.open('');\")\n",
    "driver.switch_to.window(driver.window_handles[1])"
   ]
  },
  {
   "cell_type": "code",
   "execution_count": 1044,
   "id": "c0cafc76",
   "metadata": {},
   "outputs": [],
   "source": [
    "driver.get(primer_apt)"
   ]
  },
  {
   "cell_type": "markdown",
   "id": "b25c963c",
   "metadata": {},
   "source": [
    "### Página de cada apartamento"
   ]
  },
  {
   "cell_type": "code",
   "execution_count": 1045,
   "id": "82ec2273",
   "metadata": {},
   "outputs": [
    {
     "data": {
      "text/plain": [
       "[<selenium.webdriver.remote.webelement.WebElement (session=\"2ec9991404df1f38f85c97dac4c25908\", element=\"E3F1E85940D6BB8512BB5207DFF1287E_element_163\")>,\n",
       " <selenium.webdriver.remote.webelement.WebElement (session=\"2ec9991404df1f38f85c97dac4c25908\", element=\"E3F1E85940D6BB8512BB5207DFF1287E_element_164\")>,\n",
       " <selenium.webdriver.remote.webelement.WebElement (session=\"2ec9991404df1f38f85c97dac4c25908\", element=\"E3F1E85940D6BB8512BB5207DFF1287E_element_165\")>]"
      ]
     },
     "execution_count": 1045,
     "metadata": {},
     "output_type": "execute_result"
    }
   ],
   "source": [
    "datos_resaltados_we = driver.find_elements(By.XPATH, '//li[@class=\"Li-sc-1knn373-0 ctJpwh\"]/div[contains(@class, \"py-2\")]//h2')[1:]\n",
    "datos_resaltados_we"
   ]
  },
  {
   "cell_type": "code",
   "execution_count": 1046,
   "id": "c97f2ec0",
   "metadata": {},
   "outputs": [
    {
     "data": {
      "text/plain": [
       "[{'name': 'Habitaciones', 'value': '1'},\n",
       " {'name': 'Baños', 'value': '1'},\n",
       " {'name': 'Estrato', 'value': '4'}]"
      ]
     },
     "execution_count": 1046,
     "metadata": {},
     "output_type": "execute_result"
    }
   ],
   "source": [
    "datos_resaltados_limpios = []\n",
    "for i in datos_resaltados_we:\n",
    "    name = i.text.split('\\n')[1]\n",
    "    value = i.text.split('\\n')[0]\n",
    "    datos_resaltados_limpios.append({'name': name, 'value': value })\n",
    "datos_resaltados_limpios \n",
    "\n",
    "\n"
   ]
  },
  {
   "cell_type": "code",
   "execution_count": 1047,
   "id": "5c8ea0b2",
   "metadata": {},
   "outputs": [],
   "source": [
    "for i in datos_resaltados_limpios:\n",
    "    if 'Habitaciones' in i['name']:\n",
    "        habitaciones = i['value']\n",
    "    if 'Baños' in i['name']:\n",
    "        banos = i['value']\n",
    "    if 'Estrato' in i['name']:\n",
    "        estrato = i['value']"
   ]
  },
  {
   "cell_type": "code",
   "execution_count": 1048,
   "id": "e11da857",
   "metadata": {},
   "outputs": [
    {
     "data": {
      "text/plain": [
       "[<selenium.webdriver.remote.webelement.WebElement (session=\"2ec9991404df1f38f85c97dac4c25908\", element=\"E3F1E85940D6BB8512BB5207DFF1287E_element_166\")>,\n",
       " <selenium.webdriver.remote.webelement.WebElement (session=\"2ec9991404df1f38f85c97dac4c25908\", element=\"E3F1E85940D6BB8512BB5207DFF1287E_element_167\")>,\n",
       " <selenium.webdriver.remote.webelement.WebElement (session=\"2ec9991404df1f38f85c97dac4c25908\", element=\"E3F1E85940D6BB8512BB5207DFF1287E_element_168\")>,\n",
       " <selenium.webdriver.remote.webelement.WebElement (session=\"2ec9991404df1f38f85c97dac4c25908\", element=\"E3F1E85940D6BB8512BB5207DFF1287E_element_169\")>,\n",
       " <selenium.webdriver.remote.webelement.WebElement (session=\"2ec9991404df1f38f85c97dac4c25908\", element=\"E3F1E85940D6BB8512BB5207DFF1287E_element_170\")>,\n",
       " <selenium.webdriver.remote.webelement.WebElement (session=\"2ec9991404df1f38f85c97dac4c25908\", element=\"E3F1E85940D6BB8512BB5207DFF1287E_element_171\")>]"
      ]
     },
     "execution_count": 1048,
     "metadata": {},
     "output_type": "execute_result"
    }
   ],
   "source": [
    "datos_principales_we = driver.find_elements(By.XPATH, '//div[@class=\"Col-sc-14ninbu-0 lfGZKA mb-3 pb-1 col-12 col-lg-3\"]')\n",
    "datos_principales_we"
   ]
  },
  {
   "cell_type": "code",
   "execution_count": 1049,
   "id": "fe56d0d6",
   "metadata": {},
   "outputs": [
    {
     "data": {
      "text/plain": [
       "[{'name': 'Código inmueble', 'value': '15753-M4275740'},\n",
       " {'name': 'Barrio común', 'value': 'EL REDIL'},\n",
       " {'name': 'Antigüedad', 'value': 'Entre 0 y 5 años'},\n",
       " {'name': 'Área construida', 'value': '35 m²'},\n",
       " {'name': 'Área privada', 'value': '35 m²'},\n",
       " {'name': 'Valor arriendo', 'value': '$1.200.000'}]"
      ]
     },
     "execution_count": 1049,
     "metadata": {},
     "output_type": "execute_result"
    }
   ],
   "source": [
    "datos_principales_limpios = []\n",
    "for i in datos_principales_we:\n",
    "    name = i.find_element(By.XPATH, './h3').text\n",
    "    value = i.find_element(By.XPATH, './p').text\n",
    "    datos_principales_limpios.append({'name': name, 'value': value })\n",
    "datos_principales_limpios"
   ]
  },
  {
   "cell_type": "code",
   "execution_count": 1050,
   "id": "13bfdf6e",
   "metadata": {},
   "outputs": [],
   "source": [
    "for i in datos_principales_limpios:\n",
    "    if 'Código inmueble' in i['name']:\n",
    "        codigo_inmueble = i['value']\n",
    "    if 'Barrio común' in i['name']:\n",
    "        barrio = i['value']\n",
    "    if 'Antigüedad' in i['name']:\n",
    "        antiguedad = i['value']\n",
    "    if 'Área construida' in i['name']:\n",
    "        area_construida = i['value']\n",
    "    if 'Área privada' in i['name']:\n",
    "        area_privada = i['value']\n",
    "    if 'Valor arriendo' in i['name']:\n",
    "        valor_arriendo = i['value']\n",
    "    if 'Valor administración' in i['name']:\n",
    "        valor_administracion = i['value']\n",
    "    if 'Parqueaderos' in i['name']:\n",
    "        parqueadero = i['value']"
   ]
  },
  {
   "cell_type": "code",
   "execution_count": 1051,
   "id": "de936b5b",
   "metadata": {},
   "outputs": [
    {
     "data": {
      "text/plain": [
       "'El Redil'"
      ]
     },
     "execution_count": 1051,
     "metadata": {},
     "output_type": "execute_result"
    }
   ],
   "source": [
    "barrio.title()"
   ]
  },
  {
   "cell_type": "code",
   "execution_count": 1052,
   "id": "f69d2621",
   "metadata": {},
   "outputs": [
    {
     "data": {
      "text/plain": [
       "'Entre 0 y 5 años'"
      ]
     },
     "execution_count": 1052,
     "metadata": {},
     "output_type": "execute_result"
    }
   ],
   "source": [
    "antiguedad"
   ]
  },
  {
   "cell_type": "code",
   "execution_count": 1053,
   "id": "64f94ca3",
   "metadata": {},
   "outputs": [
    {
     "data": {
      "text/plain": [
       "'35'"
      ]
     },
     "execution_count": 1053,
     "metadata": {},
     "output_type": "execute_result"
    }
   ],
   "source": [
    "area_construida.split(' m')[0]"
   ]
  },
  {
   "cell_type": "code",
   "execution_count": 1054,
   "id": "35e43c2b",
   "metadata": {},
   "outputs": [
    {
     "data": {
      "text/plain": [
       "'35'"
      ]
     },
     "execution_count": 1054,
     "metadata": {},
     "output_type": "execute_result"
    }
   ],
   "source": [
    "area_privada.split(' m')[0]"
   ]
  },
  {
   "cell_type": "code",
   "execution_count": 1055,
   "id": "41c549f0",
   "metadata": {},
   "outputs": [
    {
     "data": {
      "text/plain": [
       "'1200000'"
      ]
     },
     "execution_count": 1055,
     "metadata": {},
     "output_type": "execute_result"
    }
   ],
   "source": [
    "valor_arriendo.split('$')[1].replace('.','')"
   ]
  },
  {
   "cell_type": "code",
   "execution_count": 1056,
   "id": "9575a7f3",
   "metadata": {},
   "outputs": [
    {
     "data": {
      "text/plain": [
       "'200000'"
      ]
     },
     "execution_count": 1056,
     "metadata": {},
     "output_type": "execute_result"
    }
   ],
   "source": [
    "valor_administracion.split('$')[1].replace('.','')"
   ]
  },
  {
   "cell_type": "code",
   "execution_count": 1057,
   "id": "6fc09e01",
   "metadata": {},
   "outputs": [
    {
     "data": {
      "text/plain": [
       "'2'"
      ]
     },
     "execution_count": 1057,
     "metadata": {},
     "output_type": "execute_result"
    }
   ],
   "source": [
    "parqueadero"
   ]
  },
  {
   "cell_type": "code",
   "execution_count": 1075,
   "id": "40d0095d",
   "metadata": {},
   "outputs": [
    {
     "ename": "WebDriverException",
     "evalue": "Message: disconnected: not connected to DevTools\n  (failed to check if window was closed: disconnected: not connected to DevTools)\n  (Session info: chrome=114.0.5735.198)\nStacktrace:\n0   chromedriver                        0x0000000108707598 chromedriver + 4973976\n1   chromedriver                        0x00000001086fe913 chromedriver + 4938003\n2   chromedriver                        0x00000001082bbcd6 chromedriver + 470230\n3   chromedriver                        0x00000001082a2a61 chromedriver + 367201\n4   chromedriver                        0x00000001082a27c3 chromedriver + 366531\n5   chromedriver                        0x00000001082bd862 chromedriver + 477282\n6   chromedriver                        0x000000010833df4e chromedriver + 1003342\n7   chromedriver                        0x0000000108323793 chromedriver + 894867\n8   chromedriver                        0x00000001082f121f chromedriver + 688671\n9   chromedriver                        0x00000001082f256e chromedriver + 693614\n10  chromedriver                        0x00000001086c1bb7 chromedriver + 4688823\n11  chromedriver                        0x00000001086c6a51 chromedriver + 4708945\n12  chromedriver                        0x00000001086cd40f chromedriver + 4736015\n13  chromedriver                        0x00000001086c791a chromedriver + 4712730\n14  chromedriver                        0x000000010869a87c chromedriver + 4528252\n15  chromedriver                        0x00000001086e6f28 chromedriver + 4841256\n16  chromedriver                        0x00000001086e70a7 chromedriver + 4841639\n17  chromedriver                        0x00000001086f828f chromedriver + 4911759\n18  libsystem_pthread.dylib             0x00007ff81961d259 _pthread_start + 125\n19  libsystem_pthread.dylib             0x00007ff819618c7b thread_start + 15\n",
     "output_type": "error",
     "traceback": [
      "\u001b[0;31m---------------------------------------------------------------------------\u001b[0m",
      "\u001b[0;31mWebDriverException\u001b[0m                        Traceback (most recent call last)",
      "Cell \u001b[0;32mIn[1075], line 1\u001b[0m\n\u001b[0;32m----> 1\u001b[0m sector \u001b[38;5;241m=\u001b[39m \u001b[43mdriver\u001b[49m\u001b[38;5;241;43m.\u001b[39;49m\u001b[43mfind_element\u001b[49m\u001b[43m(\u001b[49m\u001b[43mBy\u001b[49m\u001b[38;5;241;43m.\u001b[39;49m\u001b[43mXPATH\u001b[49m\u001b[43m,\u001b[49m\u001b[43m \u001b[49m\u001b[38;5;124;43m'\u001b[39;49m\u001b[38;5;124;43m//p[@class=\u001b[39;49m\u001b[38;5;124;43m\"\u001b[39;49m\u001b[38;5;124;43mP-sc-31hrrf-0 hGwghD card-subtitle\u001b[39;49m\u001b[38;5;124;43m\"\u001b[39;49m\u001b[38;5;124;43m]\u001b[39;49m\u001b[38;5;124;43m'\u001b[39;49m\u001b[43m)\u001b[49m\u001b[38;5;241m.\u001b[39mtext\n\u001b[1;32m      2\u001b[0m \u001b[38;5;28;01mif\u001b[39;00m \u001b[38;5;124m'\u001b[39m\u001b[38;5;124mSector\u001b[39m\u001b[38;5;124m'\u001b[39m \u001b[38;5;129;01min\u001b[39;00m sector:\n\u001b[1;32m      3\u001b[0m     sector \u001b[38;5;241m=\u001b[39m sector\u001b[38;5;241m.\u001b[39msplit(\u001b[38;5;124m'\u001b[39m\u001b[38;5;124m,\u001b[39m\u001b[38;5;124m'\u001b[39m)[\u001b[38;5;241m0\u001b[39m]\u001b[38;5;241m.\u001b[39msplit(\u001b[38;5;124m'\u001b[39m\u001b[38;5;124mSector \u001b[39m\u001b[38;5;124m'\u001b[39m)[\u001b[38;5;241m1\u001b[39m]\n",
      "File \u001b[0;32m~/anaconda3/lib/python3.9/site-packages/selenium/webdriver/remote/webdriver.py:831\u001b[0m, in \u001b[0;36mWebDriver.find_element\u001b[0;34m(self, by, value)\u001b[0m\n\u001b[1;32m    828\u001b[0m     by \u001b[38;5;241m=\u001b[39m By\u001b[38;5;241m.\u001b[39mCSS_SELECTOR\n\u001b[1;32m    829\u001b[0m     value \u001b[38;5;241m=\u001b[39m \u001b[38;5;124mf\u001b[39m\u001b[38;5;124m'\u001b[39m\u001b[38;5;124m[name=\u001b[39m\u001b[38;5;124m\"\u001b[39m\u001b[38;5;132;01m{\u001b[39;00mvalue\u001b[38;5;132;01m}\u001b[39;00m\u001b[38;5;124m\"\u001b[39m\u001b[38;5;124m]\u001b[39m\u001b[38;5;124m'\u001b[39m\n\u001b[0;32m--> 831\u001b[0m \u001b[38;5;28;01mreturn\u001b[39;00m \u001b[38;5;28;43mself\u001b[39;49m\u001b[38;5;241;43m.\u001b[39;49m\u001b[43mexecute\u001b[49m\u001b[43m(\u001b[49m\u001b[43mCommand\u001b[49m\u001b[38;5;241;43m.\u001b[39;49m\u001b[43mFIND_ELEMENT\u001b[49m\u001b[43m,\u001b[49m\u001b[43m \u001b[49m\u001b[43m{\u001b[49m\u001b[38;5;124;43m\"\u001b[39;49m\u001b[38;5;124;43musing\u001b[39;49m\u001b[38;5;124;43m\"\u001b[39;49m\u001b[43m:\u001b[49m\u001b[43m \u001b[49m\u001b[43mby\u001b[49m\u001b[43m,\u001b[49m\u001b[43m \u001b[49m\u001b[38;5;124;43m\"\u001b[39;49m\u001b[38;5;124;43mvalue\u001b[39;49m\u001b[38;5;124;43m\"\u001b[39;49m\u001b[43m:\u001b[49m\u001b[43m \u001b[49m\u001b[43mvalue\u001b[49m\u001b[43m}\u001b[49m\u001b[43m)\u001b[49m[\u001b[38;5;124m\"\u001b[39m\u001b[38;5;124mvalue\u001b[39m\u001b[38;5;124m\"\u001b[39m]\n",
      "File \u001b[0;32m~/anaconda3/lib/python3.9/site-packages/selenium/webdriver/remote/webdriver.py:440\u001b[0m, in \u001b[0;36mWebDriver.execute\u001b[0;34m(self, driver_command, params)\u001b[0m\n\u001b[1;32m    438\u001b[0m response \u001b[38;5;241m=\u001b[39m \u001b[38;5;28mself\u001b[39m\u001b[38;5;241m.\u001b[39mcommand_executor\u001b[38;5;241m.\u001b[39mexecute(driver_command, params)\n\u001b[1;32m    439\u001b[0m \u001b[38;5;28;01mif\u001b[39;00m response:\n\u001b[0;32m--> 440\u001b[0m     \u001b[38;5;28;43mself\u001b[39;49m\u001b[38;5;241;43m.\u001b[39;49m\u001b[43merror_handler\u001b[49m\u001b[38;5;241;43m.\u001b[39;49m\u001b[43mcheck_response\u001b[49m\u001b[43m(\u001b[49m\u001b[43mresponse\u001b[49m\u001b[43m)\u001b[49m\n\u001b[1;32m    441\u001b[0m     response[\u001b[38;5;124m\"\u001b[39m\u001b[38;5;124mvalue\u001b[39m\u001b[38;5;124m\"\u001b[39m] \u001b[38;5;241m=\u001b[39m \u001b[38;5;28mself\u001b[39m\u001b[38;5;241m.\u001b[39m_unwrap_value(response\u001b[38;5;241m.\u001b[39mget(\u001b[38;5;124m\"\u001b[39m\u001b[38;5;124mvalue\u001b[39m\u001b[38;5;124m\"\u001b[39m, \u001b[38;5;28;01mNone\u001b[39;00m))\n\u001b[1;32m    442\u001b[0m     \u001b[38;5;28;01mreturn\u001b[39;00m response\n",
      "File \u001b[0;32m~/anaconda3/lib/python3.9/site-packages/selenium/webdriver/remote/errorhandler.py:245\u001b[0m, in \u001b[0;36mErrorHandler.check_response\u001b[0;34m(self, response)\u001b[0m\n\u001b[1;32m    243\u001b[0m         alert_text \u001b[38;5;241m=\u001b[39m value[\u001b[38;5;124m\"\u001b[39m\u001b[38;5;124malert\u001b[39m\u001b[38;5;124m\"\u001b[39m]\u001b[38;5;241m.\u001b[39mget(\u001b[38;5;124m\"\u001b[39m\u001b[38;5;124mtext\u001b[39m\u001b[38;5;124m\"\u001b[39m)\n\u001b[1;32m    244\u001b[0m     \u001b[38;5;28;01mraise\u001b[39;00m exception_class(message, screen, stacktrace, alert_text)  \u001b[38;5;66;03m# type: ignore[call-arg]  # mypy is not smart enough here\u001b[39;00m\n\u001b[0;32m--> 245\u001b[0m \u001b[38;5;28;01mraise\u001b[39;00m exception_class(message, screen, stacktrace)\n",
      "\u001b[0;31mWebDriverException\u001b[0m: Message: disconnected: not connected to DevTools\n  (failed to check if window was closed: disconnected: not connected to DevTools)\n  (Session info: chrome=114.0.5735.198)\nStacktrace:\n0   chromedriver                        0x0000000108707598 chromedriver + 4973976\n1   chromedriver                        0x00000001086fe913 chromedriver + 4938003\n2   chromedriver                        0x00000001082bbcd6 chromedriver + 470230\n3   chromedriver                        0x00000001082a2a61 chromedriver + 367201\n4   chromedriver                        0x00000001082a27c3 chromedriver + 366531\n5   chromedriver                        0x00000001082bd862 chromedriver + 477282\n6   chromedriver                        0x000000010833df4e chromedriver + 1003342\n7   chromedriver                        0x0000000108323793 chromedriver + 894867\n8   chromedriver                        0x00000001082f121f chromedriver + 688671\n9   chromedriver                        0x00000001082f256e chromedriver + 693614\n10  chromedriver                        0x00000001086c1bb7 chromedriver + 4688823\n11  chromedriver                        0x00000001086c6a51 chromedriver + 4708945\n12  chromedriver                        0x00000001086cd40f chromedriver + 4736015\n13  chromedriver                        0x00000001086c791a chromedriver + 4712730\n14  chromedriver                        0x000000010869a87c chromedriver + 4528252\n15  chromedriver                        0x00000001086e6f28 chromedriver + 4841256\n16  chromedriver                        0x00000001086e70a7 chromedriver + 4841639\n17  chromedriver                        0x00000001086f828f chromedriver + 4911759\n18  libsystem_pthread.dylib             0x00007ff81961d259 _pthread_start + 125\n19  libsystem_pthread.dylib             0x00007ff819618c7b thread_start + 15\n"
     ]
    }
   ],
   "source": [
    "sector = driver.find_element(By.XPATH, '//p[@class=\"P-sc-31hrrf-0 hGwghD card-subtitle\"]').text\n",
    "if 'Sector' in sector:\n",
    "    sector = sector.split(',')[0].split('Sector ')[1]\n",
    "else:\n",
    "    sector = sector.split('Área')[0].strip()\n",
    "sector"
   ]
  },
  {
   "cell_type": "code",
   "execution_count": 713,
   "id": "f78a937e",
   "metadata": {},
   "outputs": [],
   "source": [
    "info_dict = {'habitaciones': habitaciones,\n",
    "             'banos': banos,\n",
    "             'estrato': estrato,\n",
    "             'codigo_inmueble' : codigo_inmueble,\n",
    "             'barrio' : barrio,\n",
    "             'antiguedad' : antiguedad,\n",
    "             'area_construida' : area_construida,\n",
    "             'area_privada' : area_privada,\n",
    "             'valor_arriendo' : area_privada,\n",
    "             'valor_administracion' : area_privada,\n",
    "             'parqueadero' : area_privada,\n",
    "             'sector' : sector\n",
    "            }"
   ]
  },
  {
   "cell_type": "markdown",
   "id": "72cdfcf4",
   "metadata": {},
   "source": [
    "## Organizando todo en funciones"
   ]
  },
  {
   "cell_type": "code",
   "execution_count": 765,
   "id": "a6337a91",
   "metadata": {},
   "outputs": [],
   "source": [
    "driver_path = '../chromedriver_mac64/chromedriver'\n",
    "chrome_options = Options()\n",
    "chrome_options.add_argument(\"--window-size=1920x1080\")\n",
    "driver = webdriver.Chrome(service = Service(driver_path))\n",
    "url = 'https://www.metrocuadrado.com/apartamentos/arriendo/bogota/'"
   ]
  },
  {
   "cell_type": "code",
   "execution_count": 766,
   "id": "3d35e60b",
   "metadata": {},
   "outputs": [],
   "source": [
    "driver.get(url)"
   ]
  },
  {
   "cell_type": "code",
   "execution_count": 1112,
   "id": "d67e7c98",
   "metadata": {},
   "outputs": [],
   "source": [
    "from selenium import webdriver\n",
    "from selenium.webdriver.chrome.service import Service\n",
    "from selenium.webdriver.common.by import By\n",
    "from selenium.webdriver.common.action_chains import ActionChains\n",
    "from selenium.webdriver.support.ui import WebDriverWait\n",
    "from selenium.webdriver.support import expected_conditions as EC\n",
    "from selenium.common.exceptions import TimeoutException\n",
    "import numpy as np\n",
    "import pandas as pd"
   ]
  },
  {
   "cell_type": "code",
   "execution_count": 1113,
   "id": "8639f439",
   "metadata": {},
   "outputs": [],
   "source": [
    "def scroll(xpath_route):\n",
    "    scroll_element = driver.find_element(By.XPATH, xpath_route) \n",
    "    actions = ActionChains(driver)\n",
    "    actions.move_to_element(scroll_element).perform()"
   ]
  },
  {
   "cell_type": "code",
   "execution_count": 1114,
   "id": "08b8c921",
   "metadata": {},
   "outputs": [],
   "source": [
    "def page_filter():\n",
    "    boton_filtro_habitaciones_1 = driver.find_element(By.XPATH, '//input[@id=\"room-list-1\"]/following-sibling::span[@class=\"custom-control-description\"]').click()\n",
    "    boton_filtro_habitaciones_2 = driver.find_element(By.XPATH, '//input[@id=\"room-list-2\"]/following-sibling::span[@class=\"custom-control-description\"]').click()\n",
    "    scroll('//div[@id=\"mthResultsStealPages\"]')\n",
    "    boton_estrato = driver.find_element(By.XPATH, '//div[@class=\"m2-select__value-container m2-select__value-container--is-multi css-1hwfws3\"]').click()\n",
    "    scroll('//div[@id=\"react-select-9-option-7\"]')\n",
    "    boton_filtro_estrato_4 = driver.find_element(By.XPATH, '//div[@id=\"react-select-9-option-3\"]').click()\n",
    "    boton_filtro_estrato_5 = driver.find_element(By.XPATH, '//div[@id=\"react-select-9-option-4\"]').click()    \n",
    "    #ACA HAY UN PROBLEMA, PORQUE EMPIEZA A CARGAR EL FILTRO DE ESTRATO 4 Y 5 Y CIERRA EL DROP DOWN, ENTONCES YA NO DEJA CLICKEAR EL 6\n",
    "    boton_filtro_estrato_6 = driver.find_element(By.XPATH, '//div[@id=\"react-select-9-option-5\"]').click()    "
   ]
  },
  {
   "cell_type": "code",
   "execution_count": 1115,
   "id": "0f5c8b33",
   "metadata": {},
   "outputs": [],
   "source": [
    "def home_page_scrap():\n",
    "    apartments_web_elements = driver.find_elements(By.XPATH, '//li[@class=\"sc-gPEVay dibcyk\"]/div[@class=\"card-header\"]/a')\n",
    "    apartments_urls = []\n",
    "    for element in apartments_web_elements:\n",
    "        href = element.get_attribute('href')\n",
    "        apartments_urls.append(href)\n",
    "    return apartments_urls"
   ]
  },
  {
   "cell_type": "code",
   "execution_count": 1116,
   "id": "af4e6135",
   "metadata": {},
   "outputs": [],
   "source": [
    "def apartment_page_scrap(apartment_url): \n",
    "    driver.execute_script(\"window.open('');\")\n",
    "    driver.switch_to.window(driver.window_handles[1])\n",
    "    driver.get(apartment_url)\n",
    "#Reestablecer valores a nan \n",
    "    habitaciones = np.nan\n",
    "    banos = np.nan\n",
    "    estrato = np.nan\n",
    "    codigo_inmueble = np.nan\n",
    "    barrio = np.nan\n",
    "    antiguedad = np.nan\n",
    "    area_construida = np.nan\n",
    "    area_privada = np.nan\n",
    "    valor_arriendo = np.nan\n",
    "    valor_administracion = np.nan\n",
    "    parqueadero = np.nan\n",
    "    sector = np.nan\n",
    "\n",
    "#Obtener datos resaltados (habitaciones, banos y estrato)\n",
    "    datos_resaltados_we = driver.find_elements(By.XPATH, '//li[@class=\"Li-sc-1knn373-0 ctJpwh\"]/div[contains(@class, \"py-2\")]//h2')[1:]\n",
    "    datos_limpios = []\n",
    "    \n",
    "    for i in datos_resaltados_we:\n",
    "        name = i.text.split('\\n')[1]\n",
    "        value = i.text.split('\\n')[0]\n",
    "        datos_limpios.append({'name': name, 'value': value })\n",
    "\n",
    "    \n",
    "#Obtener datos principales(codigo_inmueble, barrio, ...sector)\n",
    "    datos_principales_we = driver.find_elements(By.XPATH, '//div[@class=\"Col-sc-14ninbu-0 lfGZKA mb-3 pb-1 col-12 col-lg-3\"]')  \n",
    "    \n",
    "    for i in datos_principales_we:\n",
    "        name = i.find_element(By.XPATH, './h3').text\n",
    "        value = i.find_element(By.XPATH, './p').text\n",
    "        datos_limpios.append({'name': name, 'value': value })   \n",
    "\n",
    "#Evaluar que estén todos los datos y que coincidan\n",
    "\n",
    "    for i in datos_limpios:\n",
    "        if 'Habitaciones' in i['name']:\n",
    "            habitaciones = i['value']\n",
    "        if 'Baños' in i['name']:\n",
    "            banos = i['value']\n",
    "        if 'Estrato' in i['name']:\n",
    "            estrato = i['value']\n",
    "        if 'Código inmueble' in i['name']:\n",
    "            codigo_inmueble = i['value']\n",
    "        if 'Barrio común' in i['name']:\n",
    "            barrio = i['value'].title()\n",
    "        if 'Antigüedad' in i['name']:\n",
    "            antiguedad = i['value']\n",
    "        if 'Área construida' in i['name']:\n",
    "            area_construida = i['value'].split(' m')[0]\n",
    "        if 'Área privada' in i['name']:\n",
    "            area_privada = i['value'].split(' m')[0]\n",
    "        if 'Valor arriendo' in i['name']:\n",
    "            valor_arriendo = i['value'].split('$')[1].replace('.','')\n",
    "        if 'Valor administración' in i['name']:\n",
    "            valor_administracion = i['value'].split('$')[1].replace('.','')\n",
    "        if 'Parqueaderos' in i['name']:\n",
    "            parqueadero = i['value']\n",
    "    \n",
    "    \n",
    "    sector = driver.find_element(By.XPATH, '//p[@class=\"P-sc-31hrrf-0 hGwghD card-subtitle\"]').text\n",
    "    if 'Sector' in sector:\n",
    "        sector = sector.split(',')[0].split('Sector ')[1]\n",
    "    else:\n",
    "        sector = sector.split('Área')[0].strip()\n",
    "  \n",
    "\n",
    "    info.append({'codigo_inmueble' : codigo_inmueble,\n",
    "         'sector' : sector,\n",
    "         'barrio' : barrio,\n",
    "         'estrato': estrato, \n",
    "         'valor_arriendo' : valor_arriendo,\n",
    "         'valor_administracion' : valor_administracion,\n",
    "         'area_construida' : area_construida,\n",
    "         'area_privada' : area_privada,\n",
    "         'antiguedad' : antiguedad,\n",
    "         'habitaciones': habitaciones,\n",
    "         'banos': banos,       \n",
    "         'parqueadero' : parqueadero,\n",
    "         'url': apartment_url\n",
    "        })\n",
    "    driver.close()\n",
    "    driver.switch_to.window(driver.window_handles[0])"
   ]
  },
  {
   "cell_type": "code",
   "execution_count": 1117,
   "id": "517ff26b",
   "metadata": {},
   "outputs": [],
   "source": [
    "def obtener_info():\n",
    "    while True:\n",
    "        delay = 10\n",
    "        WebDriverWait(driver, delay).until(EC.presence_of_element_located((By.XPATH, '//li[@class=\"sc-gPEVay dibcyk\"]/div[@class=\"card-header\"]/a')))\n",
    "        apartments_urls = home_page_scrap()\n",
    "        info = []\n",
    "        for apartment in apartments_urls:\n",
    "              apartment_page_scrap(apartment)\n",
    "        #Flechita para continuar con la siguiente página:\n",
    "        scroll('//h2[@class=\"H2-kplljn-0 igCxTv title-prefooter upper-text \"]')\n",
    "        next = driver.find_element(By.XPATH, '//li[@class=\"item-icon-next page-item\"]/a[@class=\"sc-bdVaJa ebNrSm page-link\"][@aria-label=\"Next\"]').click()\n",
    "    return info"
   ]
  },
  {
   "cell_type": "code",
   "execution_count": 1118,
   "id": "1e9fbaca",
   "metadata": {},
   "outputs": [
    {
     "ename": "KeyboardInterrupt",
     "evalue": "",
     "output_type": "error",
     "traceback": [
      "\u001b[0;31m---------------------------------------------------------------------------\u001b[0m",
      "\u001b[0;31mKeyboardInterrupt\u001b[0m                         Traceback (most recent call last)",
      "Cell \u001b[0;32mIn[1118], line 10\u001b[0m\n\u001b[1;32m      8\u001b[0m WebDriverWait(driver, delay)\u001b[38;5;241m.\u001b[39muntil(EC\u001b[38;5;241m.\u001b[39mpresence_of_element_located((By\u001b[38;5;241m.\u001b[39mXPATH, \u001b[38;5;124m'\u001b[39m\u001b[38;5;124m//li[@class=\u001b[39m\u001b[38;5;124m\"\u001b[39m\u001b[38;5;124msc-gPEVay dibcyk\u001b[39m\u001b[38;5;124m\"\u001b[39m\u001b[38;5;124m]/div[@class=\u001b[39m\u001b[38;5;124m\"\u001b[39m\u001b[38;5;124mcard-header\u001b[39m\u001b[38;5;124m\"\u001b[39m\u001b[38;5;124m]/a\u001b[39m\u001b[38;5;124m'\u001b[39m)))\n\u001b[1;32m      9\u001b[0m page_filter()\n\u001b[0;32m---> 10\u001b[0m \u001b[43mobtener_info\u001b[49m\u001b[43m(\u001b[49m\u001b[43m)\u001b[49m\n\u001b[1;32m     11\u001b[0m driver\u001b[38;5;241m.\u001b[39mclose()\n",
      "Cell \u001b[0;32mIn[1117], line 8\u001b[0m, in \u001b[0;36mobtener_info\u001b[0;34m()\u001b[0m\n\u001b[1;32m      6\u001b[0m info \u001b[38;5;241m=\u001b[39m []\n\u001b[1;32m      7\u001b[0m \u001b[38;5;28;01mfor\u001b[39;00m apartment \u001b[38;5;129;01min\u001b[39;00m apartments_urls:\n\u001b[0;32m----> 8\u001b[0m       \u001b[43mapartment_page_scrap\u001b[49m\u001b[43m(\u001b[49m\u001b[43mapartment\u001b[49m\u001b[43m)\u001b[49m\n\u001b[1;32m      9\u001b[0m \u001b[38;5;66;03m#Flechita para continuar con la siguiente página:\u001b[39;00m\n\u001b[1;32m     10\u001b[0m scroll(\u001b[38;5;124m'\u001b[39m\u001b[38;5;124m//h2[@class=\u001b[39m\u001b[38;5;124m\"\u001b[39m\u001b[38;5;124mH2-kplljn-0 igCxTv title-prefooter upper-text \u001b[39m\u001b[38;5;124m\"\u001b[39m\u001b[38;5;124m]\u001b[39m\u001b[38;5;124m'\u001b[39m)\n",
      "Cell \u001b[0;32mIn[1116], line 4\u001b[0m, in \u001b[0;36mapartment_page_scrap\u001b[0;34m(apartment_url)\u001b[0m\n\u001b[1;32m      2\u001b[0m     driver\u001b[38;5;241m.\u001b[39mexecute_script(\u001b[38;5;124m\"\u001b[39m\u001b[38;5;124mwindow.open(\u001b[39m\u001b[38;5;124m'\u001b[39m\u001b[38;5;124m'\u001b[39m\u001b[38;5;124m);\u001b[39m\u001b[38;5;124m\"\u001b[39m)\n\u001b[1;32m      3\u001b[0m     driver\u001b[38;5;241m.\u001b[39mswitch_to\u001b[38;5;241m.\u001b[39mwindow(driver\u001b[38;5;241m.\u001b[39mwindow_handles[\u001b[38;5;241m1\u001b[39m])\n\u001b[0;32m----> 4\u001b[0m     \u001b[43mdriver\u001b[49m\u001b[38;5;241;43m.\u001b[39;49m\u001b[43mget\u001b[49m\u001b[43m(\u001b[49m\u001b[43mapartment_url\u001b[49m\u001b[43m)\u001b[49m\n\u001b[1;32m      5\u001b[0m \u001b[38;5;66;03m#Reestablecer valores a nan \u001b[39;00m\n\u001b[1;32m      6\u001b[0m     habitaciones \u001b[38;5;241m=\u001b[39m np\u001b[38;5;241m.\u001b[39mnan\n",
      "File \u001b[0;32m~/anaconda3/lib/python3.9/site-packages/selenium/webdriver/remote/webdriver.py:449\u001b[0m, in \u001b[0;36mWebDriver.get\u001b[0;34m(self, url)\u001b[0m\n\u001b[1;32m    447\u001b[0m \u001b[38;5;28;01mdef\u001b[39;00m \u001b[38;5;21mget\u001b[39m(\u001b[38;5;28mself\u001b[39m, url: \u001b[38;5;28mstr\u001b[39m) \u001b[38;5;241m-\u001b[39m\u001b[38;5;241m>\u001b[39m \u001b[38;5;28;01mNone\u001b[39;00m:\n\u001b[1;32m    448\u001b[0m     \u001b[38;5;124;03m\"\"\"Loads a web page in the current browser session.\"\"\"\u001b[39;00m\n\u001b[0;32m--> 449\u001b[0m     \u001b[38;5;28;43mself\u001b[39;49m\u001b[38;5;241;43m.\u001b[39;49m\u001b[43mexecute\u001b[49m\u001b[43m(\u001b[49m\u001b[43mCommand\u001b[49m\u001b[38;5;241;43m.\u001b[39;49m\u001b[43mGET\u001b[49m\u001b[43m,\u001b[49m\u001b[43m \u001b[49m\u001b[43m{\u001b[49m\u001b[38;5;124;43m\"\u001b[39;49m\u001b[38;5;124;43murl\u001b[39;49m\u001b[38;5;124;43m\"\u001b[39;49m\u001b[43m:\u001b[49m\u001b[43m \u001b[49m\u001b[43murl\u001b[49m\u001b[43m}\u001b[49m\u001b[43m)\u001b[49m\n",
      "File \u001b[0;32m~/anaconda3/lib/python3.9/site-packages/selenium/webdriver/remote/webdriver.py:438\u001b[0m, in \u001b[0;36mWebDriver.execute\u001b[0;34m(self, driver_command, params)\u001b[0m\n\u001b[1;32m    435\u001b[0m     \u001b[38;5;28;01melif\u001b[39;00m \u001b[38;5;124m\"\u001b[39m\u001b[38;5;124msessionId\u001b[39m\u001b[38;5;124m\"\u001b[39m \u001b[38;5;129;01mnot\u001b[39;00m \u001b[38;5;129;01min\u001b[39;00m params:\n\u001b[1;32m    436\u001b[0m         params[\u001b[38;5;124m\"\u001b[39m\u001b[38;5;124msessionId\u001b[39m\u001b[38;5;124m\"\u001b[39m] \u001b[38;5;241m=\u001b[39m \u001b[38;5;28mself\u001b[39m\u001b[38;5;241m.\u001b[39msession_id\n\u001b[0;32m--> 438\u001b[0m response \u001b[38;5;241m=\u001b[39m \u001b[38;5;28;43mself\u001b[39;49m\u001b[38;5;241;43m.\u001b[39;49m\u001b[43mcommand_executor\u001b[49m\u001b[38;5;241;43m.\u001b[39;49m\u001b[43mexecute\u001b[49m\u001b[43m(\u001b[49m\u001b[43mdriver_command\u001b[49m\u001b[43m,\u001b[49m\u001b[43m \u001b[49m\u001b[43mparams\u001b[49m\u001b[43m)\u001b[49m\n\u001b[1;32m    439\u001b[0m \u001b[38;5;28;01mif\u001b[39;00m response:\n\u001b[1;32m    440\u001b[0m     \u001b[38;5;28mself\u001b[39m\u001b[38;5;241m.\u001b[39merror_handler\u001b[38;5;241m.\u001b[39mcheck_response(response)\n",
      "File \u001b[0;32m~/anaconda3/lib/python3.9/site-packages/selenium/webdriver/remote/remote_connection.py:290\u001b[0m, in \u001b[0;36mRemoteConnection.execute\u001b[0;34m(self, command, params)\u001b[0m\n\u001b[1;32m    288\u001b[0m data \u001b[38;5;241m=\u001b[39m utils\u001b[38;5;241m.\u001b[39mdump_json(params)\n\u001b[1;32m    289\u001b[0m url \u001b[38;5;241m=\u001b[39m \u001b[38;5;124mf\u001b[39m\u001b[38;5;124m\"\u001b[39m\u001b[38;5;132;01m{\u001b[39;00m\u001b[38;5;28mself\u001b[39m\u001b[38;5;241m.\u001b[39m_url\u001b[38;5;132;01m}\u001b[39;00m\u001b[38;5;132;01m{\u001b[39;00mpath\u001b[38;5;132;01m}\u001b[39;00m\u001b[38;5;124m\"\u001b[39m\n\u001b[0;32m--> 290\u001b[0m \u001b[38;5;28;01mreturn\u001b[39;00m \u001b[38;5;28;43mself\u001b[39;49m\u001b[38;5;241;43m.\u001b[39;49m\u001b[43m_request\u001b[49m\u001b[43m(\u001b[49m\u001b[43mcommand_info\u001b[49m\u001b[43m[\u001b[49m\u001b[38;5;241;43m0\u001b[39;49m\u001b[43m]\u001b[49m\u001b[43m,\u001b[49m\u001b[43m \u001b[49m\u001b[43murl\u001b[49m\u001b[43m,\u001b[49m\u001b[43m \u001b[49m\u001b[43mbody\u001b[49m\u001b[38;5;241;43m=\u001b[39;49m\u001b[43mdata\u001b[49m\u001b[43m)\u001b[49m\n",
      "File \u001b[0;32m~/anaconda3/lib/python3.9/site-packages/selenium/webdriver/remote/remote_connection.py:311\u001b[0m, in \u001b[0;36mRemoteConnection._request\u001b[0;34m(self, method, url, body)\u001b[0m\n\u001b[1;32m    308\u001b[0m     body \u001b[38;5;241m=\u001b[39m \u001b[38;5;28;01mNone\u001b[39;00m\n\u001b[1;32m    310\u001b[0m \u001b[38;5;28;01mif\u001b[39;00m \u001b[38;5;28mself\u001b[39m\u001b[38;5;241m.\u001b[39mkeep_alive:\n\u001b[0;32m--> 311\u001b[0m     response \u001b[38;5;241m=\u001b[39m \u001b[38;5;28;43mself\u001b[39;49m\u001b[38;5;241;43m.\u001b[39;49m\u001b[43m_conn\u001b[49m\u001b[38;5;241;43m.\u001b[39;49m\u001b[43mrequest\u001b[49m\u001b[43m(\u001b[49m\u001b[43mmethod\u001b[49m\u001b[43m,\u001b[49m\u001b[43m \u001b[49m\u001b[43murl\u001b[49m\u001b[43m,\u001b[49m\u001b[43m \u001b[49m\u001b[43mbody\u001b[49m\u001b[38;5;241;43m=\u001b[39;49m\u001b[43mbody\u001b[49m\u001b[43m,\u001b[49m\u001b[43m \u001b[49m\u001b[43mheaders\u001b[49m\u001b[38;5;241;43m=\u001b[39;49m\u001b[43mheaders\u001b[49m\u001b[43m)\u001b[49m\n\u001b[1;32m    312\u001b[0m     statuscode \u001b[38;5;241m=\u001b[39m response\u001b[38;5;241m.\u001b[39mstatus\n\u001b[1;32m    313\u001b[0m \u001b[38;5;28;01melse\u001b[39;00m:\n",
      "File \u001b[0;32m~/anaconda3/lib/python3.9/site-packages/urllib3/request.py:78\u001b[0m, in \u001b[0;36mRequestMethods.request\u001b[0;34m(self, method, url, fields, headers, **urlopen_kw)\u001b[0m\n\u001b[1;32m     74\u001b[0m     \u001b[38;5;28;01mreturn\u001b[39;00m \u001b[38;5;28mself\u001b[39m\u001b[38;5;241m.\u001b[39mrequest_encode_url(\n\u001b[1;32m     75\u001b[0m         method, url, fields\u001b[38;5;241m=\u001b[39mfields, headers\u001b[38;5;241m=\u001b[39mheaders, \u001b[38;5;241m*\u001b[39m\u001b[38;5;241m*\u001b[39murlopen_kw\n\u001b[1;32m     76\u001b[0m     )\n\u001b[1;32m     77\u001b[0m \u001b[38;5;28;01melse\u001b[39;00m:\n\u001b[0;32m---> 78\u001b[0m     \u001b[38;5;28;01mreturn\u001b[39;00m \u001b[38;5;28;43mself\u001b[39;49m\u001b[38;5;241;43m.\u001b[39;49m\u001b[43mrequest_encode_body\u001b[49m\u001b[43m(\u001b[49m\n\u001b[1;32m     79\u001b[0m \u001b[43m        \u001b[49m\u001b[43mmethod\u001b[49m\u001b[43m,\u001b[49m\u001b[43m \u001b[49m\u001b[43murl\u001b[49m\u001b[43m,\u001b[49m\u001b[43m \u001b[49m\u001b[43mfields\u001b[49m\u001b[38;5;241;43m=\u001b[39;49m\u001b[43mfields\u001b[49m\u001b[43m,\u001b[49m\u001b[43m \u001b[49m\u001b[43mheaders\u001b[49m\u001b[38;5;241;43m=\u001b[39;49m\u001b[43mheaders\u001b[49m\u001b[43m,\u001b[49m\u001b[43m \u001b[49m\u001b[38;5;241;43m*\u001b[39;49m\u001b[38;5;241;43m*\u001b[39;49m\u001b[43murlopen_kw\u001b[49m\n\u001b[1;32m     80\u001b[0m \u001b[43m    \u001b[49m\u001b[43m)\u001b[49m\n",
      "File \u001b[0;32m~/anaconda3/lib/python3.9/site-packages/urllib3/request.py:170\u001b[0m, in \u001b[0;36mRequestMethods.request_encode_body\u001b[0;34m(self, method, url, fields, headers, encode_multipart, multipart_boundary, **urlopen_kw)\u001b[0m\n\u001b[1;32m    167\u001b[0m extra_kw[\u001b[38;5;124m\"\u001b[39m\u001b[38;5;124mheaders\u001b[39m\u001b[38;5;124m\"\u001b[39m]\u001b[38;5;241m.\u001b[39mupdate(headers)\n\u001b[1;32m    168\u001b[0m extra_kw\u001b[38;5;241m.\u001b[39mupdate(urlopen_kw)\n\u001b[0;32m--> 170\u001b[0m \u001b[38;5;28;01mreturn\u001b[39;00m \u001b[38;5;28;43mself\u001b[39;49m\u001b[38;5;241;43m.\u001b[39;49m\u001b[43murlopen\u001b[49m\u001b[43m(\u001b[49m\u001b[43mmethod\u001b[49m\u001b[43m,\u001b[49m\u001b[43m \u001b[49m\u001b[43murl\u001b[49m\u001b[43m,\u001b[49m\u001b[43m \u001b[49m\u001b[38;5;241;43m*\u001b[39;49m\u001b[38;5;241;43m*\u001b[39;49m\u001b[43mextra_kw\u001b[49m\u001b[43m)\u001b[49m\n",
      "File \u001b[0;32m~/anaconda3/lib/python3.9/site-packages/urllib3/poolmanager.py:376\u001b[0m, in \u001b[0;36mPoolManager.urlopen\u001b[0;34m(self, method, url, redirect, **kw)\u001b[0m\n\u001b[1;32m    374\u001b[0m     response \u001b[38;5;241m=\u001b[39m conn\u001b[38;5;241m.\u001b[39murlopen(method, url, \u001b[38;5;241m*\u001b[39m\u001b[38;5;241m*\u001b[39mkw)\n\u001b[1;32m    375\u001b[0m \u001b[38;5;28;01melse\u001b[39;00m:\n\u001b[0;32m--> 376\u001b[0m     response \u001b[38;5;241m=\u001b[39m \u001b[43mconn\u001b[49m\u001b[38;5;241;43m.\u001b[39;49m\u001b[43murlopen\u001b[49m\u001b[43m(\u001b[49m\u001b[43mmethod\u001b[49m\u001b[43m,\u001b[49m\u001b[43m \u001b[49m\u001b[43mu\u001b[49m\u001b[38;5;241;43m.\u001b[39;49m\u001b[43mrequest_uri\u001b[49m\u001b[43m,\u001b[49m\u001b[43m \u001b[49m\u001b[38;5;241;43m*\u001b[39;49m\u001b[38;5;241;43m*\u001b[39;49m\u001b[43mkw\u001b[49m\u001b[43m)\u001b[49m\n\u001b[1;32m    378\u001b[0m redirect_location \u001b[38;5;241m=\u001b[39m redirect \u001b[38;5;129;01mand\u001b[39;00m response\u001b[38;5;241m.\u001b[39mget_redirect_location()\n\u001b[1;32m    379\u001b[0m \u001b[38;5;28;01mif\u001b[39;00m \u001b[38;5;129;01mnot\u001b[39;00m redirect_location:\n",
      "File \u001b[0;32m~/anaconda3/lib/python3.9/site-packages/urllib3/connectionpool.py:703\u001b[0m, in \u001b[0;36mHTTPConnectionPool.urlopen\u001b[0;34m(self, method, url, body, headers, retries, redirect, assert_same_host, timeout, pool_timeout, release_conn, chunked, body_pos, **response_kw)\u001b[0m\n\u001b[1;32m    700\u001b[0m     \u001b[38;5;28mself\u001b[39m\u001b[38;5;241m.\u001b[39m_prepare_proxy(conn)\n\u001b[1;32m    702\u001b[0m \u001b[38;5;66;03m# Make the request on the httplib connection object.\u001b[39;00m\n\u001b[0;32m--> 703\u001b[0m httplib_response \u001b[38;5;241m=\u001b[39m \u001b[38;5;28;43mself\u001b[39;49m\u001b[38;5;241;43m.\u001b[39;49m\u001b[43m_make_request\u001b[49m\u001b[43m(\u001b[49m\n\u001b[1;32m    704\u001b[0m \u001b[43m    \u001b[49m\u001b[43mconn\u001b[49m\u001b[43m,\u001b[49m\n\u001b[1;32m    705\u001b[0m \u001b[43m    \u001b[49m\u001b[43mmethod\u001b[49m\u001b[43m,\u001b[49m\n\u001b[1;32m    706\u001b[0m \u001b[43m    \u001b[49m\u001b[43murl\u001b[49m\u001b[43m,\u001b[49m\n\u001b[1;32m    707\u001b[0m \u001b[43m    \u001b[49m\u001b[43mtimeout\u001b[49m\u001b[38;5;241;43m=\u001b[39;49m\u001b[43mtimeout_obj\u001b[49m\u001b[43m,\u001b[49m\n\u001b[1;32m    708\u001b[0m \u001b[43m    \u001b[49m\u001b[43mbody\u001b[49m\u001b[38;5;241;43m=\u001b[39;49m\u001b[43mbody\u001b[49m\u001b[43m,\u001b[49m\n\u001b[1;32m    709\u001b[0m \u001b[43m    \u001b[49m\u001b[43mheaders\u001b[49m\u001b[38;5;241;43m=\u001b[39;49m\u001b[43mheaders\u001b[49m\u001b[43m,\u001b[49m\n\u001b[1;32m    710\u001b[0m \u001b[43m    \u001b[49m\u001b[43mchunked\u001b[49m\u001b[38;5;241;43m=\u001b[39;49m\u001b[43mchunked\u001b[49m\u001b[43m,\u001b[49m\n\u001b[1;32m    711\u001b[0m \u001b[43m\u001b[49m\u001b[43m)\u001b[49m\n\u001b[1;32m    713\u001b[0m \u001b[38;5;66;03m# If we're going to release the connection in ``finally:``, then\u001b[39;00m\n\u001b[1;32m    714\u001b[0m \u001b[38;5;66;03m# the response doesn't need to know about the connection. Otherwise\u001b[39;00m\n\u001b[1;32m    715\u001b[0m \u001b[38;5;66;03m# it will also try to release it and we'll have a double-release\u001b[39;00m\n\u001b[1;32m    716\u001b[0m \u001b[38;5;66;03m# mess.\u001b[39;00m\n\u001b[1;32m    717\u001b[0m response_conn \u001b[38;5;241m=\u001b[39m conn \u001b[38;5;28;01mif\u001b[39;00m \u001b[38;5;129;01mnot\u001b[39;00m release_conn \u001b[38;5;28;01melse\u001b[39;00m \u001b[38;5;28;01mNone\u001b[39;00m\n",
      "File \u001b[0;32m~/anaconda3/lib/python3.9/site-packages/urllib3/connectionpool.py:449\u001b[0m, in \u001b[0;36mHTTPConnectionPool._make_request\u001b[0;34m(self, conn, method, url, timeout, chunked, **httplib_request_kw)\u001b[0m\n\u001b[1;32m    444\u001b[0m             httplib_response \u001b[38;5;241m=\u001b[39m conn\u001b[38;5;241m.\u001b[39mgetresponse()\n\u001b[1;32m    445\u001b[0m         \u001b[38;5;28;01mexcept\u001b[39;00m \u001b[38;5;167;01mBaseException\u001b[39;00m \u001b[38;5;28;01mas\u001b[39;00m e:\n\u001b[1;32m    446\u001b[0m             \u001b[38;5;66;03m# Remove the TypeError from the exception chain in\u001b[39;00m\n\u001b[1;32m    447\u001b[0m             \u001b[38;5;66;03m# Python 3 (including for exceptions like SystemExit).\u001b[39;00m\n\u001b[1;32m    448\u001b[0m             \u001b[38;5;66;03m# Otherwise it looks like a bug in the code.\u001b[39;00m\n\u001b[0;32m--> 449\u001b[0m             \u001b[43msix\u001b[49m\u001b[38;5;241;43m.\u001b[39;49m\u001b[43mraise_from\u001b[49m\u001b[43m(\u001b[49m\u001b[43me\u001b[49m\u001b[43m,\u001b[49m\u001b[43m \u001b[49m\u001b[38;5;28;43;01mNone\u001b[39;49;00m\u001b[43m)\u001b[49m\n\u001b[1;32m    450\u001b[0m \u001b[38;5;28;01mexcept\u001b[39;00m (SocketTimeout, BaseSSLError, SocketError) \u001b[38;5;28;01mas\u001b[39;00m e:\n\u001b[1;32m    451\u001b[0m     \u001b[38;5;28mself\u001b[39m\u001b[38;5;241m.\u001b[39m_raise_timeout(err\u001b[38;5;241m=\u001b[39me, url\u001b[38;5;241m=\u001b[39murl, timeout_value\u001b[38;5;241m=\u001b[39mread_timeout)\n",
      "File \u001b[0;32m<string>:3\u001b[0m, in \u001b[0;36mraise_from\u001b[0;34m(value, from_value)\u001b[0m\n",
      "File \u001b[0;32m~/anaconda3/lib/python3.9/site-packages/urllib3/connectionpool.py:444\u001b[0m, in \u001b[0;36mHTTPConnectionPool._make_request\u001b[0;34m(self, conn, method, url, timeout, chunked, **httplib_request_kw)\u001b[0m\n\u001b[1;32m    441\u001b[0m \u001b[38;5;28;01mexcept\u001b[39;00m \u001b[38;5;167;01mTypeError\u001b[39;00m:\n\u001b[1;32m    442\u001b[0m     \u001b[38;5;66;03m# Python 3\u001b[39;00m\n\u001b[1;32m    443\u001b[0m     \u001b[38;5;28;01mtry\u001b[39;00m:\n\u001b[0;32m--> 444\u001b[0m         httplib_response \u001b[38;5;241m=\u001b[39m \u001b[43mconn\u001b[49m\u001b[38;5;241;43m.\u001b[39;49m\u001b[43mgetresponse\u001b[49m\u001b[43m(\u001b[49m\u001b[43m)\u001b[49m\n\u001b[1;32m    445\u001b[0m     \u001b[38;5;28;01mexcept\u001b[39;00m \u001b[38;5;167;01mBaseException\u001b[39;00m \u001b[38;5;28;01mas\u001b[39;00m e:\n\u001b[1;32m    446\u001b[0m         \u001b[38;5;66;03m# Remove the TypeError from the exception chain in\u001b[39;00m\n\u001b[1;32m    447\u001b[0m         \u001b[38;5;66;03m# Python 3 (including for exceptions like SystemExit).\u001b[39;00m\n\u001b[1;32m    448\u001b[0m         \u001b[38;5;66;03m# Otherwise it looks like a bug in the code.\u001b[39;00m\n\u001b[1;32m    449\u001b[0m         six\u001b[38;5;241m.\u001b[39mraise_from(e, \u001b[38;5;28;01mNone\u001b[39;00m)\n",
      "File \u001b[0;32m~/anaconda3/lib/python3.9/http/client.py:1377\u001b[0m, in \u001b[0;36mHTTPConnection.getresponse\u001b[0;34m(self)\u001b[0m\n\u001b[1;32m   1375\u001b[0m \u001b[38;5;28;01mtry\u001b[39;00m:\n\u001b[1;32m   1376\u001b[0m     \u001b[38;5;28;01mtry\u001b[39;00m:\n\u001b[0;32m-> 1377\u001b[0m         \u001b[43mresponse\u001b[49m\u001b[38;5;241;43m.\u001b[39;49m\u001b[43mbegin\u001b[49m\u001b[43m(\u001b[49m\u001b[43m)\u001b[49m\n\u001b[1;32m   1378\u001b[0m     \u001b[38;5;28;01mexcept\u001b[39;00m \u001b[38;5;167;01mConnectionError\u001b[39;00m:\n\u001b[1;32m   1379\u001b[0m         \u001b[38;5;28mself\u001b[39m\u001b[38;5;241m.\u001b[39mclose()\n",
      "File \u001b[0;32m~/anaconda3/lib/python3.9/http/client.py:320\u001b[0m, in \u001b[0;36mHTTPResponse.begin\u001b[0;34m(self)\u001b[0m\n\u001b[1;32m    318\u001b[0m \u001b[38;5;66;03m# read until we get a non-100 response\u001b[39;00m\n\u001b[1;32m    319\u001b[0m \u001b[38;5;28;01mwhile\u001b[39;00m \u001b[38;5;28;01mTrue\u001b[39;00m:\n\u001b[0;32m--> 320\u001b[0m     version, status, reason \u001b[38;5;241m=\u001b[39m \u001b[38;5;28;43mself\u001b[39;49m\u001b[38;5;241;43m.\u001b[39;49m\u001b[43m_read_status\u001b[49m\u001b[43m(\u001b[49m\u001b[43m)\u001b[49m\n\u001b[1;32m    321\u001b[0m     \u001b[38;5;28;01mif\u001b[39;00m status \u001b[38;5;241m!=\u001b[39m CONTINUE:\n\u001b[1;32m    322\u001b[0m         \u001b[38;5;28;01mbreak\u001b[39;00m\n",
      "File \u001b[0;32m~/anaconda3/lib/python3.9/http/client.py:281\u001b[0m, in \u001b[0;36mHTTPResponse._read_status\u001b[0;34m(self)\u001b[0m\n\u001b[1;32m    280\u001b[0m \u001b[38;5;28;01mdef\u001b[39;00m \u001b[38;5;21m_read_status\u001b[39m(\u001b[38;5;28mself\u001b[39m):\n\u001b[0;32m--> 281\u001b[0m     line \u001b[38;5;241m=\u001b[39m \u001b[38;5;28mstr\u001b[39m(\u001b[38;5;28;43mself\u001b[39;49m\u001b[38;5;241;43m.\u001b[39;49m\u001b[43mfp\u001b[49m\u001b[38;5;241;43m.\u001b[39;49m\u001b[43mreadline\u001b[49m\u001b[43m(\u001b[49m\u001b[43m_MAXLINE\u001b[49m\u001b[43m \u001b[49m\u001b[38;5;241;43m+\u001b[39;49m\u001b[43m \u001b[49m\u001b[38;5;241;43m1\u001b[39;49m\u001b[43m)\u001b[49m, \u001b[38;5;124m\"\u001b[39m\u001b[38;5;124miso-8859-1\u001b[39m\u001b[38;5;124m\"\u001b[39m)\n\u001b[1;32m    282\u001b[0m     \u001b[38;5;28;01mif\u001b[39;00m \u001b[38;5;28mlen\u001b[39m(line) \u001b[38;5;241m>\u001b[39m _MAXLINE:\n\u001b[1;32m    283\u001b[0m         \u001b[38;5;28;01mraise\u001b[39;00m LineTooLong(\u001b[38;5;124m\"\u001b[39m\u001b[38;5;124mstatus line\u001b[39m\u001b[38;5;124m\"\u001b[39m)\n",
      "File \u001b[0;32m~/anaconda3/lib/python3.9/socket.py:704\u001b[0m, in \u001b[0;36mSocketIO.readinto\u001b[0;34m(self, b)\u001b[0m\n\u001b[1;32m    702\u001b[0m \u001b[38;5;28;01mwhile\u001b[39;00m \u001b[38;5;28;01mTrue\u001b[39;00m:\n\u001b[1;32m    703\u001b[0m     \u001b[38;5;28;01mtry\u001b[39;00m:\n\u001b[0;32m--> 704\u001b[0m         \u001b[38;5;28;01mreturn\u001b[39;00m \u001b[38;5;28;43mself\u001b[39;49m\u001b[38;5;241;43m.\u001b[39;49m\u001b[43m_sock\u001b[49m\u001b[38;5;241;43m.\u001b[39;49m\u001b[43mrecv_into\u001b[49m\u001b[43m(\u001b[49m\u001b[43mb\u001b[49m\u001b[43m)\u001b[49m\n\u001b[1;32m    705\u001b[0m     \u001b[38;5;28;01mexcept\u001b[39;00m timeout:\n\u001b[1;32m    706\u001b[0m         \u001b[38;5;28mself\u001b[39m\u001b[38;5;241m.\u001b[39m_timeout_occurred \u001b[38;5;241m=\u001b[39m \u001b[38;5;28;01mTrue\u001b[39;00m\n",
      "\u001b[0;31mKeyboardInterrupt\u001b[0m: "
     ]
    }
   ],
   "source": [
    "driver_path = '../chromedriver_mac64/chromedriver'\n",
    "chrome_options = Options()\n",
    "chrome_options.add_argument(\"--window-size=1920x1080\")\n",
    "driver = webdriver.Chrome(service = Service(driver_path))\n",
    "url = 'https://www.metrocuadrado.com/apartamentos/arriendo/bogota/'\n",
    "delay = 15\n",
    "driver.get(url)\n",
    "WebDriverWait(driver, delay).until(EC.presence_of_element_located((By.XPATH, '//li[@class=\"sc-gPEVay dibcyk\"]/div[@class=\"card-header\"]/a')))\n",
    "page_filter()\n",
    "obtener_info()\n",
    "driver.close()"
   ]
  },
  {
   "cell_type": "code",
   "execution_count": 1119,
   "id": "bb350b86",
   "metadata": {},
   "outputs": [
    {
     "data": {
      "text/plain": [
       "[{'codigo_inmueble': '13436-M4299225',\n",
       "  'sector': 'Chapinero Alto',\n",
       "  'barrio': 'Marly',\n",
       "  'estrato': '4',\n",
       "  'valor_arriendo': '1550000',\n",
       "  'valor_administracion': '200000',\n",
       "  'area_construida': '50',\n",
       "  'area_privada': '50',\n",
       "  'antiguedad': 'Más de 20 años',\n",
       "  'habitaciones': '1',\n",
       "  'banos': '1',\n",
       "  'parqueadero': nan,\n",
       "  'url': 'https://www.metrocuadrado.com/inmueble/arriendo-apartamento-bogota-marly-1-habitaciones-1-banos/13436-M4299225'},\n",
       " {'codigo_inmueble': '10082-M4298234',\n",
       "  'sector': 'Chapinero Alto',\n",
       "  'barrio': 'Chapinero Alto',\n",
       "  'estrato': '4',\n",
       "  'valor_arriendo': '2140000',\n",
       "  'valor_administracion': '460000',\n",
       "  'area_construida': '54.7',\n",
       "  'area_privada': '54.7',\n",
       "  'antiguedad': 'Entre 0 y 5 años',\n",
       "  'habitaciones': '1',\n",
       "  'banos': '2',\n",
       "  'parqueadero': '1',\n",
       "  'url': 'https://www.metrocuadrado.com/inmueble/arriendo-apartamento-bogota-maria-cristina-1-habitaciones-2-banos-1-garajes/10082-M4298234'},\n",
       " {'codigo_inmueble': '3436-M3839172',\n",
       "  'sector': 'Centro y Zona Colonial',\n",
       "  'barrio': 'Paloquemao',\n",
       "  'estrato': '4',\n",
       "  'valor_arriendo': '834000',\n",
       "  'valor_administracion': '116000',\n",
       "  'area_construida': '20',\n",
       "  'area_privada': '20',\n",
       "  'antiguedad': 'Entre 0 y 5 años',\n",
       "  'habitaciones': '1',\n",
       "  'banos': '1',\n",
       "  'parqueadero': nan,\n",
       "  'url': 'https://www.metrocuadrado.com/inmueble/arriendo-apartamento-bogota-el-liston-1-habitaciones-1-banos/3436-M3839172'},\n",
       " {'codigo_inmueble': '13413-M4218809',\n",
       "  'sector': 'Chapinero Alto',\n",
       "  'barrio': 'Chapienro',\n",
       "  'estrato': '4',\n",
       "  'valor_arriendo': '1350000',\n",
       "  'valor_administracion': nan,\n",
       "  'area_construida': '29',\n",
       "  'area_privada': '26',\n",
       "  'antiguedad': 'Entre 0 y 5 años',\n",
       "  'habitaciones': '1',\n",
       "  'banos': '1',\n",
       "  'parqueadero': nan,\n",
       "  'url': 'https://www.metrocuadrado.com/inmueble/arriendo-apartamento-bogota-chapinero-central-1-habitaciones-1-banos/13413-M4218809'},\n",
       " {'codigo_inmueble': '3038-M4453723',\n",
       "  'sector': 'Cedritos',\n",
       "  'barrio': 'Los Cedros',\n",
       "  'estrato': '4',\n",
       "  'valor_arriendo': '1400000',\n",
       "  'valor_administracion': '1400000',\n",
       "  'area_construida': '40',\n",
       "  'area_privada': '40',\n",
       "  'antiguedad': 'Entre 5 y 10 años',\n",
       "  'habitaciones': '1',\n",
       "  'banos': '1',\n",
       "  'parqueadero': '1',\n",
       "  'url': 'https://www.metrocuadrado.com/inmueble/arriendo-apartamento-bogota-acacias-usaquen-1-habitaciones-1-banos-1-garajes/3038-M4453723'},\n",
       " {'codigo_inmueble': '13294-M4438617',\n",
       "  'sector': 'Centro y Zona Colonial',\n",
       "  'barrio': 'Teusaquillo Teusaquillo',\n",
       "  'estrato': '4',\n",
       "  'valor_arriendo': '3000000',\n",
       "  'valor_administracion': '500000',\n",
       "  'area_construida': '77',\n",
       "  'area_privada': '77',\n",
       "  'antiguedad': 'Entre 0 y 5 años',\n",
       "  'habitaciones': '2',\n",
       "  'banos': '2',\n",
       "  'parqueadero': '1',\n",
       "  'url': 'https://www.metrocuadrado.com/inmueble/arriendo-apartamento-bogota-santa-fe-2-habitaciones-2-banos-1-garajes/13294-M4438617'},\n",
       " {'codigo_inmueble': '14380-M4439854',\n",
       "  'sector': 'Centro Internacional',\n",
       "  'barrio': 'La Macarena',\n",
       "  'estrato': '4',\n",
       "  'valor_arriendo': '1800000',\n",
       "  'valor_administracion': '200000',\n",
       "  'area_construida': '40',\n",
       "  'area_privada': '40',\n",
       "  'antiguedad': 'Entre 0 y 5 años',\n",
       "  'habitaciones': '1',\n",
       "  'banos': '1',\n",
       "  'parqueadero': nan,\n",
       "  'url': 'https://www.metrocuadrado.com/inmueble/arriendo-apartamento-bogota-san-martin-1-habitaciones-1-banos/14380-M4439854'},\n",
       " {'codigo_inmueble': '10278-M4416240',\n",
       "  'sector': 'Cedritos',\n",
       "  'barrio': 'Cedritos Usaquen',\n",
       "  'estrato': '4',\n",
       "  'valor_arriendo': '2200000',\n",
       "  'valor_administracion': '460000',\n",
       "  'area_construida': '73',\n",
       "  'area_privada': '66',\n",
       "  'antiguedad': 'Entre 5 y 10 años',\n",
       "  'habitaciones': '2',\n",
       "  'banos': '2',\n",
       "  'parqueadero': '1',\n",
       "  'url': 'https://www.metrocuadrado.com/inmueble/arriendo-apartamento-bogota-acacias-usaquen-2-habitaciones-2-banos-1-garajes/10278-M4416240'},\n",
       " {'codigo_inmueble': '703-M4455325',\n",
       "  'sector': 'Chapinero Alto',\n",
       "  'barrio': 'Chapinero Alto',\n",
       "  'estrato': '4',\n",
       "  'valor_arriendo': '1450000',\n",
       "  'valor_administracion': '160000',\n",
       "  'area_construida': '30.5',\n",
       "  'area_privada': '30.5',\n",
       "  'antiguedad': 'Entre 0 y 5 años',\n",
       "  'habitaciones': '1',\n",
       "  'banos': '1',\n",
       "  'parqueadero': nan,\n",
       "  'url': 'https://www.metrocuadrado.com/inmueble/arriendo-apartamento-bogota-los-olivos-1-habitaciones-1-banos/703-M4455325'},\n",
       " {'codigo_inmueble': '416-M4411555',\n",
       "  'sector': 'Bogotá D.C.',\n",
       "  'barrio': 'Boyaca Real',\n",
       "  'estrato': '4',\n",
       "  'valor_arriendo': '1904000',\n",
       "  'valor_administracion': nan,\n",
       "  'area_construida': '50',\n",
       "  'area_privada': '50',\n",
       "  'antiguedad': 'Entre 5 y 10 años',\n",
       "  'habitaciones': '2',\n",
       "  'banos': '2',\n",
       "  'parqueadero': '1',\n",
       "  'url': 'https://www.metrocuadrado.com/inmueble/arriendo-apartamento-bogota-boyaca-real-2-habitaciones-2-banos-1-garajes/416-M4411555'},\n",
       " {'codigo_inmueble': '5031-M4408584',\n",
       "  'sector': 'Country',\n",
       "  'barrio': 'Cedritos',\n",
       "  'estrato': '4',\n",
       "  'valor_arriendo': '2200000',\n",
       "  'valor_administracion': nan,\n",
       "  'area_construida': '83',\n",
       "  'area_privada': '83',\n",
       "  'antiguedad': 'Más de 20 años',\n",
       "  'habitaciones': '2',\n",
       "  'banos': '3',\n",
       "  'parqueadero': '1',\n",
       "  'url': 'https://www.metrocuadrado.com/inmueble/arriendo-apartamento-bogota-cedritos-2-habitaciones-3-banos-1-garajes/5031-M4408584'},\n",
       " {'codigo_inmueble': '815-M4442213',\n",
       "  'sector': 'Chapinero Alto',\n",
       "  'barrio': 'Marly',\n",
       "  'estrato': '4',\n",
       "  'valor_arriendo': '1430000',\n",
       "  'valor_administracion': nan,\n",
       "  'area_construida': '44',\n",
       "  'area_privada': '44',\n",
       "  'antiguedad': 'Entre 10 y 20 años',\n",
       "  'habitaciones': '1',\n",
       "  'banos': '1',\n",
       "  'parqueadero': nan,\n",
       "  'url': 'https://www.metrocuadrado.com/inmueble/arriendo-apartamento-bogota-marly-1-habitaciones-1-banos/815-M4442213'},\n",
       " {'codigo_inmueble': '646-M4441594',\n",
       "  'sector': 'Normandía',\n",
       "  'barrio': 'Normandia',\n",
       "  'estrato': '4',\n",
       "  'valor_arriendo': '1321000',\n",
       "  'valor_administracion': '170000',\n",
       "  'area_construida': '50',\n",
       "  'area_privada': '50',\n",
       "  'antiguedad': 'Más de 20 años',\n",
       "  'habitaciones': '2',\n",
       "  'banos': '1',\n",
       "  'parqueadero': '1',\n",
       "  'url': 'https://www.metrocuadrado.com/inmueble/arriendo-apartamento-bogota-normandia-2-habitaciones-1-banos-1-garajes/646-M4441594'},\n",
       " {'codigo_inmueble': '164-M4453172',\n",
       "  'sector': 'Cedritos',\n",
       "  'barrio': 'Cedritos',\n",
       "  'estrato': '4',\n",
       "  'valor_arriendo': '2600000',\n",
       "  'valor_administracion': nan,\n",
       "  'area_construida': '71',\n",
       "  'area_privada': '71',\n",
       "  'antiguedad': 'Entre 10 y 20 años',\n",
       "  'habitaciones': '2',\n",
       "  'banos': '2',\n",
       "  'parqueadero': '1',\n",
       "  'url': 'https://www.metrocuadrado.com/inmueble/arriendo-apartamento-bogota-acacias-usaquen-2-habitaciones-2-banos-1-garajes/164-M4453172'},\n",
       " {'codigo_inmueble': '478-M4212706',\n",
       "  'sector': 'Cedritos',\n",
       "  'barrio': 'Cedritos',\n",
       "  'estrato': '4',\n",
       "  'valor_arriendo': '1678000',\n",
       "  'valor_administracion': '622000',\n",
       "  'area_construida': '84',\n",
       "  'area_privada': '84',\n",
       "  'antiguedad': 'Más de 20 años',\n",
       "  'habitaciones': '2',\n",
       "  'banos': '3',\n",
       "  'parqueadero': '2',\n",
       "  'url': 'https://www.metrocuadrado.com/inmueble/arriendo-apartamento-bogota-acacias-usaquen-2-habitaciones-3-banos-2-garajes/478-M4212706'},\n",
       " {'codigo_inmueble': '164-M4215559',\n",
       "  'sector': 'Centro Nariño',\n",
       "  'barrio': 'Quinta Paredes',\n",
       "  'estrato': '4',\n",
       "  'valor_arriendo': '1540000',\n",
       "  'valor_administracion': '310000',\n",
       "  'area_construida': '46',\n",
       "  'area_privada': '46',\n",
       "  'antiguedad': 'Más de 20 años',\n",
       "  'habitaciones': '2',\n",
       "  'banos': '1',\n",
       "  'parqueadero': '1',\n",
       "  'url': 'https://www.metrocuadrado.com/inmueble/arriendo-apartamento-bogota-quinta-paredes-2-habitaciones-1-banos-1-garajes/164-M4215559'},\n",
       " {'codigo_inmueble': '164-M4301919',\n",
       "  'sector': 'Bogotá D.C.',\n",
       "  'barrio': 'Gran Granada',\n",
       "  'estrato': '4',\n",
       "  'valor_arriendo': '1550000',\n",
       "  'valor_administracion': nan,\n",
       "  'area_construida': '61',\n",
       "  'area_privada': '61',\n",
       "  'antiguedad': 'Entre 0 y 5 años',\n",
       "  'habitaciones': '2',\n",
       "  'banos': '2',\n",
       "  'parqueadero': '1',\n",
       "  'url': 'https://www.metrocuadrado.com/inmueble/arriendo-apartamento-bogota-gran-granada-2-habitaciones-2-banos-1-garajes/164-M4301919'},\n",
       " {'codigo_inmueble': '164-M4207377',\n",
       "  'sector': 'Castilla Marsella',\n",
       "  'barrio': 'Villa Alsacia Castilla',\n",
       "  'estrato': '4',\n",
       "  'valor_arriendo': '1450000',\n",
       "  'valor_administracion': nan,\n",
       "  'area_construida': '50',\n",
       "  'area_privada': '50',\n",
       "  'antiguedad': 'Entre 10 y 20 años',\n",
       "  'habitaciones': '2',\n",
       "  'banos': '2',\n",
       "  'parqueadero': '1',\n",
       "  'url': 'https://www.metrocuadrado.com/inmueble/arriendo-apartamento-bogota-villa-alsacia-2-habitaciones-2-banos-1-garajes/164-M4207377'},\n",
       " {'codigo_inmueble': '393-M4440322',\n",
       "  'sector': 'Cedritos',\n",
       "  'barrio': 'Cedritos',\n",
       "  'estrato': '4',\n",
       "  'valor_arriendo': '1200000',\n",
       "  'valor_administracion': '328000',\n",
       "  'area_construida': '37.42',\n",
       "  'area_privada': '37.42',\n",
       "  'antiguedad': 'Más de 20 años',\n",
       "  'habitaciones': '1',\n",
       "  'banos': '1',\n",
       "  'parqueadero': '1',\n",
       "  'url': 'https://www.metrocuadrado.com/inmueble/arriendo-apartamento-bogota-acacias-usaquen-1-habitaciones-1-banos-1-garajes/393-M4440322'},\n",
       " {'codigo_inmueble': '164-M4437977',\n",
       "  'sector': 'Colina y Alrededores',\n",
       "  'barrio': 'Colina Campestre',\n",
       "  'estrato': '4',\n",
       "  'valor_arriendo': '2200000',\n",
       "  'valor_administracion': nan,\n",
       "  'area_construida': '45',\n",
       "  'area_privada': '45',\n",
       "  'antiguedad': 'Entre 0 y 5 años',\n",
       "  'habitaciones': '1',\n",
       "  'banos': '1',\n",
       "  'parqueadero': nan,\n",
       "  'url': 'https://www.metrocuadrado.com/inmueble/arriendo-apartamento-bogota-prado-veraniego-norte-1-habitaciones-1-banos/164-M4437977'},\n",
       " {'codigo_inmueble': '2363-M4414407',\n",
       "  'sector': 'Centro Nariño',\n",
       "  'barrio': 'Gran America',\n",
       "  'estrato': '4',\n",
       "  'valor_arriendo': '3300000',\n",
       "  'valor_administracion': nan,\n",
       "  'area_construida': '79.59',\n",
       "  'area_privada': '71.9',\n",
       "  'antiguedad': 'Entre 0 y 5 años',\n",
       "  'habitaciones': '2',\n",
       "  'banos': '2',\n",
       "  'parqueadero': '1',\n",
       "  'url': 'https://www.metrocuadrado.com/inmueble/arriendo-apartamento-bogota-gran-america-2-habitaciones-2-banos-1-garajes/2363-M4414407'},\n",
       " {'codigo_inmueble': '164-M4290999',\n",
       "  'sector': 'Fontibón Tintal',\n",
       "  'barrio': 'Villemar',\n",
       "  'estrato': '4',\n",
       "  'valor_arriendo': '1700000',\n",
       "  'valor_administracion': nan,\n",
       "  'area_construida': '52',\n",
       "  'area_privada': '52',\n",
       "  'antiguedad': 'Entre 0 y 5 años',\n",
       "  'habitaciones': '2',\n",
       "  'banos': '2',\n",
       "  'parqueadero': '1',\n",
       "  'url': 'https://www.metrocuadrado.com/inmueble/arriendo-apartamento-bogota-el-tintal-a.s.d.-2-habitaciones-2-banos-1-garajes/164-M4290999'},\n",
       " {'codigo_inmueble': '10366-M4017431',\n",
       "  'sector': 'Centro y Zona Colonial',\n",
       "  'barrio': 'La Veracruz',\n",
       "  'estrato': '4',\n",
       "  'valor_arriendo': '1820000',\n",
       "  'valor_administracion': '180000',\n",
       "  'area_construida': '50',\n",
       "  'area_privada': '50',\n",
       "  'antiguedad': 'Remodelado',\n",
       "  'habitaciones': '1',\n",
       "  'banos': '1',\n",
       "  'parqueadero': nan,\n",
       "  'url': 'https://www.metrocuadrado.com/inmueble/arriendo-apartamento-bogota-la-veracruz-1-habitaciones-1-banos/10366-M4017431'},\n",
       " {'codigo_inmueble': '164-M4422406',\n",
       "  'sector': 'Chapinero Alto',\n",
       "  'barrio': 'Marly',\n",
       "  'estrato': '4',\n",
       "  'valor_arriendo': '1200000',\n",
       "  'valor_administracion': '254000',\n",
       "  'area_construida': '56',\n",
       "  'area_privada': '56',\n",
       "  'antiguedad': 'Más de 20 años',\n",
       "  'habitaciones': '1',\n",
       "  'banos': '1',\n",
       "  'parqueadero': '1',\n",
       "  'url': 'https://www.metrocuadrado.com/inmueble/arriendo-apartamento-bogota-marly-1-habitaciones-1-banos-1-garajes/164-M4422406'},\n",
       " {'codigo_inmueble': '164-M4443538',\n",
       "  'sector': 'Niza Alhambra',\n",
       "  'barrio': 'La Castellana',\n",
       "  'estrato': '4',\n",
       "  'valor_arriendo': '3000000',\n",
       "  'valor_administracion': nan,\n",
       "  'area_construida': '50',\n",
       "  'area_privada': '50',\n",
       "  'antiguedad': 'Entre 0 y 5 años',\n",
       "  'habitaciones': '2',\n",
       "  'banos': '2',\n",
       "  'parqueadero': '1',\n",
       "  'url': 'https://www.metrocuadrado.com/inmueble/arriendo-apartamento-bogota-la-castellana-2-habitaciones-2-banos-1-garajes/164-M4443538'},\n",
       " {'codigo_inmueble': '164-M3691680',\n",
       "  'sector': 'Nicolás de Federmán',\n",
       "  'barrio': 'Nicolas De Federman',\n",
       "  'estrato': '4',\n",
       "  'valor_arriendo': '1300000',\n",
       "  'valor_administracion': '200000',\n",
       "  'area_construida': '30',\n",
       "  'area_privada': '30',\n",
       "  'antiguedad': 'Remodelado',\n",
       "  'habitaciones': '1',\n",
       "  'banos': '1',\n",
       "  'parqueadero': nan,\n",
       "  'url': 'https://www.metrocuadrado.com/inmueble/arriendo-apartamento-bogota-campin-occidental-1-habitaciones-1-banos/164-M3691680'},\n",
       " {'codigo_inmueble': '164-M4176839',\n",
       "  'sector': 'Normandía',\n",
       "  'barrio': 'Normandia',\n",
       "  'estrato': '4',\n",
       "  'valor_arriendo': '1500000',\n",
       "  'valor_administracion': nan,\n",
       "  'area_construida': '60',\n",
       "  'area_privada': '60',\n",
       "  'antiguedad': 'Más de 20 años',\n",
       "  'habitaciones': '2',\n",
       "  'banos': '1',\n",
       "  'parqueadero': '1',\n",
       "  'url': 'https://www.metrocuadrado.com/inmueble/arriendo-apartamento-bogota-normandia-occidental-2-habitaciones-1-banos-1-garajes/164-M4176839'},\n",
       " {'codigo_inmueble': '164-M3049644',\n",
       "  'sector': 'La Soledad',\n",
       "  'barrio': 'Teusaquillo',\n",
       "  'estrato': '4',\n",
       "  'valor_arriendo': '2400000',\n",
       "  'valor_administracion': nan,\n",
       "  'area_construida': '67',\n",
       "  'area_privada': '67',\n",
       "  'antiguedad': 'Más de 20 años',\n",
       "  'habitaciones': '2',\n",
       "  'banos': '2',\n",
       "  'parqueadero': '1',\n",
       "  'url': 'https://www.metrocuadrado.com/inmueble/arriendo-apartamento-bogota-armenia-2-habitaciones-2-banos-1-garajes/164-M3049644'},\n",
       " {'codigo_inmueble': '646-M4138325',\n",
       "  'sector': 'Normandía',\n",
       "  'barrio': 'Normandia',\n",
       "  'estrato': '4',\n",
       "  'valor_arriendo': '950000',\n",
       "  'valor_administracion': nan,\n",
       "  'area_construida': '50',\n",
       "  'area_privada': '50',\n",
       "  'antiguedad': 'Más de 20 años',\n",
       "  'habitaciones': '2',\n",
       "  'banos': '1',\n",
       "  'parqueadero': nan,\n",
       "  'url': 'https://www.metrocuadrado.com/inmueble/arriendo-apartamento-bogota-normandia-occidental-2-habitaciones-1-banos/646-M4138325'},\n",
       " {'codigo_inmueble': '164-M4160651',\n",
       "  'sector': 'Centro Internacional',\n",
       "  'barrio': 'Bosque Izquierdo',\n",
       "  'estrato': '4',\n",
       "  'valor_arriendo': '3880000',\n",
       "  'valor_administracion': nan,\n",
       "  'area_construida': '110',\n",
       "  'area_privada': '110',\n",
       "  'antiguedad': 'Remodelado',\n",
       "  'habitaciones': '1',\n",
       "  'banos': '2',\n",
       "  'parqueadero': '2',\n",
       "  'url': 'https://www.metrocuadrado.com/inmueble/arriendo-apartamento-bogota-bosque-izquierdo-1-habitaciones-2-banos-2-garajes/164-M4160651'},\n",
       " {'codigo_inmueble': '639-M4415978',\n",
       "  'sector': 'Chapinero Alto',\n",
       "  'barrio': 'Chapinero',\n",
       "  'estrato': '4',\n",
       "  'valor_arriendo': '1200000',\n",
       "  'valor_administracion': nan,\n",
       "  'area_construida': '36',\n",
       "  'area_privada': '36',\n",
       "  'antiguedad': 'Más de 20 años',\n",
       "  'habitaciones': '1',\n",
       "  'banos': '1',\n",
       "  'parqueadero': nan,\n",
       "  'url': 'https://www.metrocuadrado.com/inmueble/arriendo-apartamento-bogota-sucre-1-habitaciones-1-banos/639-M4415978'},\n",
       " {'codigo_inmueble': '164-M4363472',\n",
       "  'sector': 'Bogotá D.C.',\n",
       "  'barrio': 'La Castellana',\n",
       "  'estrato': '4',\n",
       "  'valor_arriendo': '5000000',\n",
       "  'valor_administracion': nan,\n",
       "  'area_construida': '48',\n",
       "  'area_privada': '48',\n",
       "  'antiguedad': 'Entre 0 y 5 años',\n",
       "  'habitaciones': '2',\n",
       "  'banos': '2',\n",
       "  'parqueadero': '2',\n",
       "  'url': 'https://www.metrocuadrado.com/inmueble/arriendo-apartamento-bogota-la-castellana-2-habitaciones-2-banos-2-garajes/164-M4363472'},\n",
       " {'codigo_inmueble': '164-M4227552',\n",
       "  'sector': 'Cedritos',\n",
       "  'barrio': 'Cedritos',\n",
       "  'estrato': '4',\n",
       "  'valor_arriendo': '1600000',\n",
       "  'valor_administracion': nan,\n",
       "  'area_construida': '68',\n",
       "  'area_privada': '68',\n",
       "  'antiguedad': 'Más de 20 años',\n",
       "  'habitaciones': '2',\n",
       "  'banos': '2',\n",
       "  'parqueadero': '1',\n",
       "  'url': 'https://www.metrocuadrado.com/inmueble/arriendo-apartamento-bogota-acacias-usaquen-2-habitaciones-2-banos-1-garajes/164-M4227552'},\n",
       " {'codigo_inmueble': '164-M3442640',\n",
       "  'sector': 'Chicó',\n",
       "  'barrio': 'Chapinero Norte',\n",
       "  'estrato': '4',\n",
       "  'valor_arriendo': '2500000',\n",
       "  'valor_administracion': nan,\n",
       "  'area_construida': '56',\n",
       "  'area_privada': '56',\n",
       "  'antiguedad': 'Entre 0 y 5 años',\n",
       "  'habitaciones': '2',\n",
       "  'banos': '1',\n",
       "  'parqueadero': '1',\n",
       "  'url': 'https://www.metrocuadrado.com/inmueble/arriendo-apartamento-bogota-el-retiro-2-habitaciones-1-banos-1-garajes/164-M3442640'},\n",
       " {'codigo_inmueble': '164-M4009099',\n",
       "  'sector': 'Chapinero Alto',\n",
       "  'barrio': 'Chapinero Central',\n",
       "  'estrato': '4',\n",
       "  'valor_arriendo': '1250000',\n",
       "  'valor_administracion': nan,\n",
       "  'area_construida': '30',\n",
       "  'area_privada': '30',\n",
       "  'antiguedad': 'Remodelado',\n",
       "  'habitaciones': '1',\n",
       "  'banos': '1',\n",
       "  'parqueadero': nan,\n",
       "  'url': 'https://www.metrocuadrado.com/inmueble/arriendo-apartamento-bogota-chapinero-central-1-habitaciones-1-banos/164-M4009099'},\n",
       " {'codigo_inmueble': '164-M3485433',\n",
       "  'sector': 'Centro Nariño',\n",
       "  'barrio': 'Quinta Paredes',\n",
       "  'estrato': '4',\n",
       "  'valor_arriendo': '3500000',\n",
       "  'valor_administracion': nan,\n",
       "  'area_construida': '57',\n",
       "  'area_privada': '57',\n",
       "  'antiguedad': 'Entre 10 y 20 años',\n",
       "  'habitaciones': '2',\n",
       "  'banos': '2',\n",
       "  'parqueadero': '1',\n",
       "  'url': 'https://www.metrocuadrado.com/inmueble/arriendo-apartamento-bogota-quinta-paredes-2-habitaciones-2-banos-1-garajes/164-M3485433'},\n",
       " {'codigo_inmueble': '164-M4114521',\n",
       "  'sector': 'Cedritos',\n",
       "  'barrio': 'Villa Magdala',\n",
       "  'estrato': '4',\n",
       "  'valor_arriendo': '1800000',\n",
       "  'valor_administracion': nan,\n",
       "  'area_construida': '62',\n",
       "  'area_privada': '62',\n",
       "  'antiguedad': 'Remodelado',\n",
       "  'habitaciones': '2',\n",
       "  'banos': '2',\n",
       "  'parqueadero': '1',\n",
       "  'url': 'https://www.metrocuadrado.com/inmueble/arriendo-apartamento-bogota-la-liberia-2-habitaciones-2-banos-1-garajes/164-M4114521'},\n",
       " {'codigo_inmueble': '164-M4439856',\n",
       "  'sector': 'Salitre Modelia',\n",
       "  'barrio': 'Ciudad Salitre',\n",
       "  'estrato': '4',\n",
       "  'valor_arriendo': '1600000',\n",
       "  'valor_administracion': nan,\n",
       "  'area_construida': '12',\n",
       "  'area_privada': '12',\n",
       "  'antiguedad': 'Más de 20 años',\n",
       "  'habitaciones': '1',\n",
       "  'banos': nan,\n",
       "  'parqueadero': nan,\n",
       "  'url': 'https://www.metrocuadrado.com/inmueble/arriendo-apartamento-bogota-terminal-de-transportes-1-habitaciones/164-M4439856'},\n",
       " {'codigo_inmueble': '164-M4173939',\n",
       "  'sector': 'Centro y Zona Colonial',\n",
       "  'barrio': 'La Veracruz',\n",
       "  'estrato': '4',\n",
       "  'valor_arriendo': '1500000',\n",
       "  'valor_administracion': nan,\n",
       "  'area_construida': '38',\n",
       "  'area_privada': '38',\n",
       "  'antiguedad': 'Entre 0 y 5 años',\n",
       "  'habitaciones': '1',\n",
       "  'banos': '1',\n",
       "  'parqueadero': '1',\n",
       "  'url': 'https://www.metrocuadrado.com/inmueble/arriendo-apartamento-bogota-la-veracruz-1-habitaciones-1-banos-1-garajes/164-M4173939'},\n",
       " {'codigo_inmueble': '10193-M4360115',\n",
       "  'sector': 'Centro Internacional',\n",
       "  'barrio': 'Centro Internacional',\n",
       "  'estrato': '4',\n",
       "  'valor_arriendo': '3100000',\n",
       "  'valor_administracion': nan,\n",
       "  'area_construida': '90',\n",
       "  'area_privada': '90',\n",
       "  'antiguedad': 'Entre 10 y 20 años',\n",
       "  'habitaciones': '2',\n",
       "  'banos': '2',\n",
       "  'parqueadero': '1',\n",
       "  'url': 'https://www.metrocuadrado.com/inmueble/arriendo-apartamento-bogota-samper-2-habitaciones-2-banos-1-garajes/10193-M4360115'},\n",
       " {'codigo_inmueble': '11813-M4074318',\n",
       "  'sector': 'Colina y Alrededores',\n",
       "  'barrio': 'Suba',\n",
       "  'estrato': '4',\n",
       "  'valor_arriendo': '2600000',\n",
       "  'valor_administracion': '300000',\n",
       "  'area_construida': '69',\n",
       "  'area_privada': '69',\n",
       "  'antiguedad': 'Más de 20 años',\n",
       "  'habitaciones': '2',\n",
       "  'banos': '2',\n",
       "  'parqueadero': '1',\n",
       "  'url': 'https://www.metrocuadrado.com/inmueble/arriendo-apartamento-bogota-victoria-norte-2-habitaciones-2-banos-1-garajes/11813-M4074318'},\n",
       " {'codigo_inmueble': '11813-M4409929',\n",
       "  'sector': 'Bogotá D.C.',\n",
       "  'barrio': 'Bogota',\n",
       "  'estrato': '4',\n",
       "  'valor_arriendo': '3198000',\n",
       "  'valor_administracion': '802000',\n",
       "  'area_construida': '55',\n",
       "  'area_privada': '55',\n",
       "  'antiguedad': 'Entre 5 y 10 años',\n",
       "  'habitaciones': '2',\n",
       "  'banos': '3',\n",
       "  'parqueadero': '2',\n",
       "  'url': 'https://www.metrocuadrado.com/inmueble/arriendo-apartamento-bogota-bogota-2-habitaciones-3-banos-2-garajes/11813-M4409929'},\n",
       " {'codigo_inmueble': '11813-M4166807',\n",
       "  'sector': 'Bogotá D.C.',\n",
       "  'barrio': 'Localidad De Chapinero',\n",
       "  'estrato': '4',\n",
       "  'valor_arriendo': '1500000',\n",
       "  'valor_administracion': '150000',\n",
       "  'area_construida': '30',\n",
       "  'area_privada': '39',\n",
       "  'antiguedad': 'Más de 20 años',\n",
       "  'habitaciones': '1',\n",
       "  'banos': '1',\n",
       "  'parqueadero': nan,\n",
       "  'url': 'https://www.metrocuadrado.com/inmueble/arriendo-apartamento-bogota-localidad-de-chapinero-1-habitaciones-1-banos/11813-M4166807'},\n",
       " {'codigo_inmueble': '11813-M4441471',\n",
       "  'sector': 'Bogotá D.C.',\n",
       "  'barrio': 'Santa Fe',\n",
       "  'estrato': '4',\n",
       "  'valor_arriendo': '2489000',\n",
       "  'valor_administracion': '421000',\n",
       "  'area_construida': '62',\n",
       "  'area_privada': '62',\n",
       "  'antiguedad': 'Entre 10 y 20 años',\n",
       "  'habitaciones': '2',\n",
       "  'banos': '2',\n",
       "  'parqueadero': '1',\n",
       "  'url': 'https://www.metrocuadrado.com/inmueble/arriendo-apartamento-bogota-santa-fe-2-habitaciones-2-banos-1-garajes/11813-M4441471'},\n",
       " {'codigo_inmueble': '11049-M4323190',\n",
       "  'sector': '170 y Alredores',\n",
       "  'barrio': 'Nueva Zelandia',\n",
       "  'estrato': '4',\n",
       "  'valor_arriendo': '1450000',\n",
       "  'valor_administracion': '150000',\n",
       "  'area_construida': '32',\n",
       "  'area_privada': '32',\n",
       "  'antiguedad': 'Entre 0 y 5 años',\n",
       "  'habitaciones': '1',\n",
       "  'banos': '1',\n",
       "  'parqueadero': '1',\n",
       "  'url': 'https://www.metrocuadrado.com/inmueble/arriendo-apartamento-bogota-nueva-zelandia-1-habitaciones-1-banos-1-garajes/11049-M4323190'},\n",
       " {'codigo_inmueble': '11049-M4449023',\n",
       "  'sector': 'Bogotá D.C.',\n",
       "  'barrio': 'Cajica',\n",
       "  'estrato': '4',\n",
       "  'valor_arriendo': '1800000',\n",
       "  'valor_administracion': nan,\n",
       "  'area_construida': '78',\n",
       "  'area_privada': '78',\n",
       "  'antiguedad': 'Entre 0 y 5 años',\n",
       "  'habitaciones': '2',\n",
       "  'banos': '2',\n",
       "  'parqueadero': '1',\n",
       "  'url': 'https://www.metrocuadrado.com/inmueble/arriendo-apartamento-bogota-cajica-2-habitaciones-2-banos-1-garajes/11049-M4449023'},\n",
       " {'codigo_inmueble': '11049-M4080452',\n",
       "  'sector': 'Santa Bárbara',\n",
       "  'barrio': 'Bella Suiza',\n",
       "  'estrato': '4',\n",
       "  'valor_arriendo': '1908000',\n",
       "  'valor_administracion': '592000',\n",
       "  'area_construida': '67',\n",
       "  'area_privada': '67',\n",
       "  'antiguedad': 'Entre 0 y 5 años',\n",
       "  'habitaciones': '2',\n",
       "  'banos': '2',\n",
       "  'parqueadero': '1',\n",
       "  'url': 'https://www.metrocuadrado.com/inmueble/arriendo-apartamento-bogota-san-gabriel-norte-2-habitaciones-2-banos-1-garajes/11049-M4080452'}]"
      ]
     },
     "execution_count": 1119,
     "metadata": {},
     "output_type": "execute_result"
    }
   ],
   "source": [
    "info"
   ]
  },
  {
   "cell_type": "code",
   "execution_count": 1121,
   "id": "b73978a4",
   "metadata": {},
   "outputs": [
    {
     "data": {
      "text/plain": [
       "47"
      ]
     },
     "execution_count": 1121,
     "metadata": {},
     "output_type": "execute_result"
    }
   ],
   "source": [
    "len(info)"
   ]
  },
  {
   "cell_type": "code",
   "execution_count": 1093,
   "id": "6d5e1e6a",
   "metadata": {},
   "outputs": [],
   "source": [
    "df = pd.DataFrame(info)"
   ]
  },
  {
   "cell_type": "code",
   "execution_count": 1094,
   "id": "0a60b409",
   "metadata": {},
   "outputs": [],
   "source": [
    "pd.set_option('display.max_rows', None)"
   ]
  },
  {
   "cell_type": "code",
   "execution_count": 1095,
   "id": "0fad0efe",
   "metadata": {
    "scrolled": false
   },
   "outputs": [
    {
     "data": {
      "text/html": [
       "<div>\n",
       "<style scoped>\n",
       "    .dataframe tbody tr th:only-of-type {\n",
       "        vertical-align: middle;\n",
       "    }\n",
       "\n",
       "    .dataframe tbody tr th {\n",
       "        vertical-align: top;\n",
       "    }\n",
       "\n",
       "    .dataframe thead th {\n",
       "        text-align: right;\n",
       "    }\n",
       "</style>\n",
       "<table border=\"1\" class=\"dataframe\">\n",
       "  <thead>\n",
       "    <tr style=\"text-align: right;\">\n",
       "      <th></th>\n",
       "      <th>codigo_inmueble</th>\n",
       "      <th>sector</th>\n",
       "      <th>barrio</th>\n",
       "      <th>estrato</th>\n",
       "      <th>valor_arriendo</th>\n",
       "      <th>valor_administracion</th>\n",
       "      <th>area_construida</th>\n",
       "      <th>area_privada</th>\n",
       "      <th>antiguedad</th>\n",
       "      <th>habitaciones</th>\n",
       "      <th>banos</th>\n",
       "      <th>parqueadero</th>\n",
       "      <th>url</th>\n",
       "    </tr>\n",
       "  </thead>\n",
       "  <tbody>\n",
       "    <tr>\n",
       "      <th>1910</th>\n",
       "      <td>717-M4350784</td>\n",
       "      <td>Santa Bárbara</td>\n",
       "      <td>Chico Navarra</td>\n",
       "      <td>6</td>\n",
       "      <td>4200000</td>\n",
       "      <td>750000</td>\n",
       "      <td>82</td>\n",
       "      <td>82</td>\n",
       "      <td>Entre 0 y 5 años</td>\n",
       "      <td>2</td>\n",
       "      <td>3</td>\n",
       "      <td>2</td>\n",
       "      <td>https://www.metrocuadrado.com/inmueble/arriend...</td>\n",
       "    </tr>\n",
       "    <tr>\n",
       "      <th>1911</th>\n",
       "      <td>370-M4452499</td>\n",
       "      <td>Chapinero Alto</td>\n",
       "      <td>Chapinero</td>\n",
       "      <td>4</td>\n",
       "      <td>1300000</td>\n",
       "      <td>186000</td>\n",
       "      <td>24.13</td>\n",
       "      <td>24.13</td>\n",
       "      <td>Entre 0 y 5 años</td>\n",
       "      <td>1</td>\n",
       "      <td>1</td>\n",
       "      <td>1</td>\n",
       "      <td>https://www.metrocuadrado.com/inmueble/arriend...</td>\n",
       "    </tr>\n",
       "    <tr>\n",
       "      <th>1912</th>\n",
       "      <td>2996-M4349553</td>\n",
       "      <td>Santa Bárbara</td>\n",
       "      <td>Santa Barbara Occidental</td>\n",
       "      <td>5</td>\n",
       "      <td>4000000</td>\n",
       "      <td>600000</td>\n",
       "      <td>117</td>\n",
       "      <td>110</td>\n",
       "      <td>Remodelado</td>\n",
       "      <td>2</td>\n",
       "      <td>3</td>\n",
       "      <td>2</td>\n",
       "      <td>https://www.metrocuadrado.com/inmueble/arriend...</td>\n",
       "    </tr>\n",
       "    <tr>\n",
       "      <th>1913</th>\n",
       "      <td>4186-M4429267</td>\n",
       "      <td>Chapinero Alto</td>\n",
       "      <td>Chapinero Alto</td>\n",
       "      <td>5</td>\n",
       "      <td>5800000</td>\n",
       "      <td>NaN</td>\n",
       "      <td>110</td>\n",
       "      <td>110</td>\n",
       "      <td>Entre 5 y 10 años</td>\n",
       "      <td>2</td>\n",
       "      <td>3</td>\n",
       "      <td>2</td>\n",
       "      <td>https://www.metrocuadrado.com/inmueble/arriend...</td>\n",
       "    </tr>\n",
       "    <tr>\n",
       "      <th>1914</th>\n",
       "      <td>717-M3711192</td>\n",
       "      <td>Santa Bárbara</td>\n",
       "      <td>Santa Barbara</td>\n",
       "      <td>6</td>\n",
       "      <td>3800000</td>\n",
       "      <td>670000</td>\n",
       "      <td>89</td>\n",
       "      <td>89</td>\n",
       "      <td>Entre 5 y 10 años</td>\n",
       "      <td>2</td>\n",
       "      <td>2</td>\n",
       "      <td>2</td>\n",
       "      <td>https://www.metrocuadrado.com/inmueble/arriend...</td>\n",
       "    </tr>\n",
       "  </tbody>\n",
       "</table>\n",
       "</div>"
      ],
      "text/plain": [
       "     codigo_inmueble          sector                    barrio estrato  \\\n",
       "1910    717-M4350784   Santa Bárbara             Chico Navarra       6   \n",
       "1911    370-M4452499  Chapinero Alto                 Chapinero       4   \n",
       "1912   2996-M4349553   Santa Bárbara  Santa Barbara Occidental       5   \n",
       "1913   4186-M4429267  Chapinero Alto            Chapinero Alto       5   \n",
       "1914    717-M3711192   Santa Bárbara             Santa Barbara       6   \n",
       "\n",
       "     valor_arriendo valor_administracion area_construida area_privada  \\\n",
       "1910        4200000               750000              82           82   \n",
       "1911        1300000               186000           24.13        24.13   \n",
       "1912        4000000               600000             117          110   \n",
       "1913        5800000                  NaN             110          110   \n",
       "1914        3800000               670000              89           89   \n",
       "\n",
       "             antiguedad habitaciones banos parqueadero  \\\n",
       "1910   Entre 0 y 5 años            2     3           2   \n",
       "1911   Entre 0 y 5 años            1     1           1   \n",
       "1912         Remodelado            2     3           2   \n",
       "1913  Entre 5 y 10 años            2     3           2   \n",
       "1914  Entre 5 y 10 años            2     2           2   \n",
       "\n",
       "                                                    url  \n",
       "1910  https://www.metrocuadrado.com/inmueble/arriend...  \n",
       "1911  https://www.metrocuadrado.com/inmueble/arriend...  \n",
       "1912  https://www.metrocuadrado.com/inmueble/arriend...  \n",
       "1913  https://www.metrocuadrado.com/inmueble/arriend...  \n",
       "1914  https://www.metrocuadrado.com/inmueble/arriend...  "
      ]
     },
     "execution_count": 1095,
     "metadata": {},
     "output_type": "execute_result"
    }
   ],
   "source": [
    "df.tail()"
   ]
  },
  {
   "cell_type": "code",
   "execution_count": 1096,
   "id": "295ea6e5",
   "metadata": {},
   "outputs": [],
   "source": [
    "file_path = '/Users/diegotorres/Documents/Learning/Proyectos practicos/Bogota apartments/Propio/data3.csv'\n",
    "df.to_csv(file_path, encoding='utf-8', index=False)"
   ]
  },
  {
   "cell_type": "code",
   "execution_count": null,
   "id": "4a999ae1",
   "metadata": {},
   "outputs": [],
   "source": []
  }
 ],
 "metadata": {
  "kernelspec": {
   "display_name": "Python 3 (ipykernel)",
   "language": "python",
   "name": "python3"
  },
  "language_info": {
   "codemirror_mode": {
    "name": "ipython",
    "version": 3
   },
   "file_extension": ".py",
   "mimetype": "text/x-python",
   "name": "python",
   "nbconvert_exporter": "python",
   "pygments_lexer": "ipython3",
   "version": "3.9.12"
  }
 },
 "nbformat": 4,
 "nbformat_minor": 5
}
